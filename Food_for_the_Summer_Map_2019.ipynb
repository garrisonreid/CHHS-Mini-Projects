{
  "nbformat": 4,
  "nbformat_minor": 0,
  "metadata": {
    "colab": {
      "name": "Food for the Summer Map 2019",
      "version": "0.3.2",
      "provenance": [],
      "collapsed_sections": [],
      "include_colab_link": true
    },
    "kernelspec": {
      "name": "python3",
      "display_name": "Python 3"
    }
  },
  "cells": [
    {
      "cell_type": "markdown",
      "metadata": {
        "id": "view-in-github",
        "colab_type": "text"
      },
      "source": [
        "<a href=\"https://colab.research.google.com/github/garrisonreid/CHHS-Mini-Projects/blob/master/Food_for_the_Summer_Map_2019.ipynb\" target=\"_parent\"><img src=\"https://colab.research.google.com/assets/colab-badge.svg\" alt=\"Open In Colab\"/></a>"
      ]
    },
    {
      "cell_type": "code",
      "metadata": {
        "id": "to6yyv0p60S2",
        "colab_type": "code",
        "outputId": "0ceb48a8-e383-45fd-c67c-b1751c2c63d6",
        "colab": {
          "base_uri": "https://localhost:8080/",
          "height": 799
        }
      },
      "source": [
        "!pip install pandas\n",
        "!pip install folium\n",
        "!pip install geopandas"
      ],
      "execution_count": 2,
      "outputs": [
        {
          "output_type": "stream",
          "text": [
            "Requirement already satisfied: pandas in /usr/local/lib/python3.6/dist-packages (0.24.2)\n",
            "Requirement already satisfied: pytz>=2011k in /usr/local/lib/python3.6/dist-packages (from pandas) (2018.9)\n",
            "Requirement already satisfied: python-dateutil>=2.5.0 in /usr/local/lib/python3.6/dist-packages (from pandas) (2.5.3)\n",
            "Requirement already satisfied: numpy>=1.12.0 in /usr/local/lib/python3.6/dist-packages (from pandas) (1.16.4)\n",
            "Requirement already satisfied: six>=1.5 in /usr/local/lib/python3.6/dist-packages (from python-dateutil>=2.5.0->pandas) (1.12.0)\n",
            "Requirement already satisfied: folium in /usr/local/lib/python3.6/dist-packages (0.8.3)\n",
            "Requirement already satisfied: six in /usr/local/lib/python3.6/dist-packages (from folium) (1.12.0)\n",
            "Requirement already satisfied: jinja2 in /usr/local/lib/python3.6/dist-packages (from folium) (2.10.1)\n",
            "Requirement already satisfied: requests in /usr/local/lib/python3.6/dist-packages (from folium) (2.21.0)\n",
            "Requirement already satisfied: branca>=0.3.0 in /usr/local/lib/python3.6/dist-packages (from folium) (0.3.1)\n",
            "Requirement already satisfied: numpy in /usr/local/lib/python3.6/dist-packages (from folium) (1.16.4)\n",
            "Requirement already satisfied: MarkupSafe>=0.23 in /usr/local/lib/python3.6/dist-packages (from jinja2->folium) (1.1.1)\n",
            "Requirement already satisfied: chardet<3.1.0,>=3.0.2 in /usr/local/lib/python3.6/dist-packages (from requests->folium) (3.0.4)\n",
            "Requirement already satisfied: certifi>=2017.4.17 in /usr/local/lib/python3.6/dist-packages (from requests->folium) (2019.3.9)\n",
            "Requirement already satisfied: idna<2.9,>=2.5 in /usr/local/lib/python3.6/dist-packages (from requests->folium) (2.8)\n",
            "Requirement already satisfied: urllib3<1.25,>=1.21.1 in /usr/local/lib/python3.6/dist-packages (from requests->folium) (1.24.3)\n",
            "Collecting geopandas\n",
            "\u001b[?25l  Downloading https://files.pythonhosted.org/packages/74/42/f4b147fc7920998a42046d0c2e65e61000bc5d104f1f8aec719612cb2fc8/geopandas-0.5.0-py2.py3-none-any.whl (893kB)\n",
            "\u001b[K     |████████████████████████████████| 901kB 2.8MB/s \n",
            "\u001b[?25hRequirement already satisfied: pandas in /usr/local/lib/python3.6/dist-packages (from geopandas) (0.24.2)\n",
            "Collecting pyproj (from geopandas)\n",
            "\u001b[?25l  Downloading https://files.pythonhosted.org/packages/ac/1a/81ef33d97354eb7d1765a921ecaf2ece41fd7927937b7c74124b6a2a0d99/pyproj-2.2.0-cp36-cp36m-manylinux1_x86_64.whl (11.2MB)\n",
            "\u001b[K     |████████████████████████████████| 11.2MB 40.1MB/s \n",
            "\u001b[?25hCollecting fiona (from geopandas)\n",
            "\u001b[33m  WARNING: Retrying (Retry(total=4, connect=None, read=None, redirect=None, status=None)) after connection broken by 'ProtocolError('Connection aborted.', ConnectionResetError(104, 'Connection reset by peer'))': /simple/fiona/\u001b[0m\n",
            "\u001b[?25l  Downloading https://files.pythonhosted.org/packages/89/4a/193cd6a75e51062c85f4e1cd6f312b3bbda6e26ba7510f152ef5016f0b16/Fiona-1.8.6-cp36-cp36m-manylinux1_x86_64.whl (17.9MB)\n",
            "\u001b[K     |████████████████████████████████| 17.9MB 29.7MB/s \n",
            "\u001b[?25hRequirement already satisfied: shapely in /usr/local/lib/python3.6/dist-packages (from geopandas) (1.6.4.post2)\n",
            "Requirement already satisfied: numpy>=1.12.0 in /usr/local/lib/python3.6/dist-packages (from pandas->geopandas) (1.16.4)\n",
            "Requirement already satisfied: pytz>=2011k in /usr/local/lib/python3.6/dist-packages (from pandas->geopandas) (2018.9)\n",
            "Requirement already satisfied: python-dateutil>=2.5.0 in /usr/local/lib/python3.6/dist-packages (from pandas->geopandas) (2.5.3)\n",
            "Requirement already satisfied: attrs>=17 in /usr/local/lib/python3.6/dist-packages (from fiona->geopandas) (19.1.0)\n",
            "Collecting cligj>=0.5 (from fiona->geopandas)\n",
            "  Downloading https://files.pythonhosted.org/packages/e4/be/30a58b4b0733850280d01f8bd132591b4668ed5c7046761098d665ac2174/cligj-0.5.0-py3-none-any.whl\n",
            "Collecting munch (from fiona->geopandas)\n",
            "  Downloading https://files.pythonhosted.org/packages/68/f4/260ec98ea840757a0da09e0ed8135333d59b8dfebe9752a365b04857660a/munch-2.3.2.tar.gz\n",
            "Requirement already satisfied: click<8,>=4.0 in /usr/local/lib/python3.6/dist-packages (from fiona->geopandas) (7.0)\n",
            "Collecting click-plugins>=1.0 (from fiona->geopandas)\n",
            "  Downloading https://files.pythonhosted.org/packages/e9/da/824b92d9942f4e472702488857914bdd50f73021efea15b4cad9aca8ecef/click_plugins-1.1.1-py2.py3-none-any.whl\n",
            "Requirement already satisfied: six>=1.7 in /usr/local/lib/python3.6/dist-packages (from fiona->geopandas) (1.12.0)\n",
            "Building wheels for collected packages: munch\n",
            "  Building wheel for munch (setup.py) ... \u001b[?25l\u001b[?25hdone\n",
            "  Stored in directory: /root/.cache/pip/wheels/db/bf/bc/06a3e1bfe0ab27d2e720ceb3cff3159398d92644c0cec2c125\n",
            "Successfully built munch\n",
            "Installing collected packages: pyproj, cligj, munch, click-plugins, fiona, geopandas\n",
            "Successfully installed click-plugins-1.1.1 cligj-0.5.0 fiona-1.8.6 geopandas-0.5.0 munch-2.3.2 pyproj-2.2.0\n"
          ],
          "name": "stdout"
        }
      ]
    },
    {
      "cell_type": "code",
      "metadata": {
        "id": "O9Beyy106TlI",
        "colab_type": "code",
        "outputId": "33b9cd74-bdc8-4520-c291-e733b954547f",
        "colab": {
          "base_uri": "https://localhost:8080/",
          "height": 204
        }
      },
      "source": [
        "import pandas as pd\n",
        "import geopandas as gpd\n",
        "from shapely.geometry import Point\n",
        "import folium\n",
        "\n",
        "df = pd.read_csv(\"https://docs.google.com/spreadsheets/d/e/2PACX-1vSoqxUNXIPAXbixYIURlnr_K0_FwJ_z4dUUd_0xHufba-Tnn1ULZa6NtSyNJU4odxKtSKFvmm9qe_Yw/pub?gid=1896976877&single=true&output=csv\")\n",
        "df.head()"
      ],
      "execution_count": 3,
      "outputs": [
        {
          "output_type": "execute_result",
          "data": {
            "text/html": [
              "<div>\n",
              "<style scoped>\n",
              "    .dataframe tbody tr th:only-of-type {\n",
              "        vertical-align: middle;\n",
              "    }\n",
              "\n",
              "    .dataframe tbody tr th {\n",
              "        vertical-align: top;\n",
              "    }\n",
              "\n",
              "    .dataframe thead th {\n",
              "        text-align: right;\n",
              "    }\n",
              "</style>\n",
              "<table border=\"1\" class=\"dataframe\">\n",
              "  <thead>\n",
              "    <tr style=\"text-align: right;\">\n",
              "      <th></th>\n",
              "      <th>Locations</th>\n",
              "      <th>Address</th>\n",
              "      <th>lat</th>\n",
              "      <th>lng</th>\n",
              "    </tr>\n",
              "  </thead>\n",
              "  <tbody>\n",
              "    <tr>\n",
              "      <th>0</th>\n",
              "      <td>Airport Gardens</td>\n",
              "      <td>815 Martin Luther King Jr., Blvd, Chapel Hill,...</td>\n",
              "      <td>35.920529</td>\n",
              "      <td>-79.055715</td>\n",
              "    </tr>\n",
              "    <tr>\n",
              "      <th>1</th>\n",
              "      <td>Dobbins Hill Apartments</td>\n",
              "      <td>1749 Dobbins Drive, Chapel Hill, NC 27514</td>\n",
              "      <td>35.946027</td>\n",
              "      <td>-79.015435</td>\n",
              "    </tr>\n",
              "    <tr>\n",
              "      <th>2</th>\n",
              "      <td>Eastwood</td>\n",
              "      <td>100 Louis Armstrong Court, Chapel Hill, NC 27514</td>\n",
              "      <td>35.947130</td>\n",
              "      <td>-79.046989</td>\n",
              "    </tr>\n",
              "    <tr>\n",
              "      <th>3</th>\n",
              "      <td>Hargraves Community Center</td>\n",
              "      <td>216 N Roberson St, Chapel Hill 27516</td>\n",
              "      <td>35.912903</td>\n",
              "      <td>-79.063894</td>\n",
              "    </tr>\n",
              "    <tr>\n",
              "      <th>4</th>\n",
              "      <td>S Estes Apartments</td>\n",
              "      <td>301 S Estes Drive, Chapel Hill, NC 27517</td>\n",
              "      <td>35.924858</td>\n",
              "      <td>-79.024008</td>\n",
              "    </tr>\n",
              "  </tbody>\n",
              "</table>\n",
              "</div>"
            ],
            "text/plain": [
              "                    Locations  ...        lng\n",
              "0             Airport Gardens  ... -79.055715\n",
              "1     Dobbins Hill Apartments  ... -79.015435\n",
              "2                    Eastwood  ... -79.046989\n",
              "3  Hargraves Community Center  ... -79.063894\n",
              "4          S Estes Apartments  ... -79.024008\n",
              "\n",
              "[5 rows x 4 columns]"
            ]
          },
          "metadata": {
            "tags": []
          },
          "execution_count": 3
        }
      ]
    },
    {
      "cell_type": "code",
      "metadata": {
        "id": "gRumtE617mn9",
        "colab_type": "code",
        "outputId": "05e34f3b-662d-42d1-9dfd-269f2aaf3762",
        "colab": {
          "base_uri": "https://localhost:8080/",
          "height": 204
        }
      },
      "source": [
        "def make_point(row):\n",
        "    return Point(row.lng, row.lat)\n",
        "\n",
        "def make_marker(row):\n",
        "  return Markers(row.Locations)\n",
        "  \n",
        "# Go through every row, and make a point out of its lat and lon\n",
        "points = df.apply(make_point, axis=1)\n",
        "# markers = df.apply(make_marker, axis=1)\n",
        "\n",
        "# Make a new GeoDataFrame\n",
        "# using the data from our old df\n",
        "# but also adding in the geometry we just made\n",
        "pickupLocations = gpd.GeoDataFrame(df, geometry=points)\n",
        "\n",
        "# It doesn't come with a CRS because it's a CSV, so let's\n",
        "# say \"hey, let's use the standard shape of the earth etc\"\n",
        "pickupLocations.crs = {'init': 'epsg:4326'}\n",
        "\n",
        "# Let's look at the first few\n",
        "pickupLocations.head()\n"
      ],
      "execution_count": 4,
      "outputs": [
        {
          "output_type": "execute_result",
          "data": {
            "text/html": [
              "<div>\n",
              "<style scoped>\n",
              "    .dataframe tbody tr th:only-of-type {\n",
              "        vertical-align: middle;\n",
              "    }\n",
              "\n",
              "    .dataframe tbody tr th {\n",
              "        vertical-align: top;\n",
              "    }\n",
              "\n",
              "    .dataframe thead th {\n",
              "        text-align: right;\n",
              "    }\n",
              "</style>\n",
              "<table border=\"1\" class=\"dataframe\">\n",
              "  <thead>\n",
              "    <tr style=\"text-align: right;\">\n",
              "      <th></th>\n",
              "      <th>Locations</th>\n",
              "      <th>Address</th>\n",
              "      <th>lat</th>\n",
              "      <th>lng</th>\n",
              "      <th>geometry</th>\n",
              "    </tr>\n",
              "  </thead>\n",
              "  <tbody>\n",
              "    <tr>\n",
              "      <th>0</th>\n",
              "      <td>Airport Gardens</td>\n",
              "      <td>815 Martin Luther King Jr., Blvd, Chapel Hill,...</td>\n",
              "      <td>35.920529</td>\n",
              "      <td>-79.055715</td>\n",
              "      <td>POINT (-79.05571500000001 35.92052899999999)</td>\n",
              "    </tr>\n",
              "    <tr>\n",
              "      <th>1</th>\n",
              "      <td>Dobbins Hill Apartments</td>\n",
              "      <td>1749 Dobbins Drive, Chapel Hill, NC 27514</td>\n",
              "      <td>35.946027</td>\n",
              "      <td>-79.015435</td>\n",
              "      <td>POINT (-79.015435 35.946027)</td>\n",
              "    </tr>\n",
              "    <tr>\n",
              "      <th>2</th>\n",
              "      <td>Eastwood</td>\n",
              "      <td>100 Louis Armstrong Court, Chapel Hill, NC 27514</td>\n",
              "      <td>35.947130</td>\n",
              "      <td>-79.046989</td>\n",
              "      <td>POINT (-79.046989 35.94713)</td>\n",
              "    </tr>\n",
              "    <tr>\n",
              "      <th>3</th>\n",
              "      <td>Hargraves Community Center</td>\n",
              "      <td>216 N Roberson St, Chapel Hill 27516</td>\n",
              "      <td>35.912903</td>\n",
              "      <td>-79.063894</td>\n",
              "      <td>POINT (-79.06389399999999 35.912903)</td>\n",
              "    </tr>\n",
              "    <tr>\n",
              "      <th>4</th>\n",
              "      <td>S Estes Apartments</td>\n",
              "      <td>301 S Estes Drive, Chapel Hill, NC 27517</td>\n",
              "      <td>35.924858</td>\n",
              "      <td>-79.024008</td>\n",
              "      <td>POINT (-79.02400799999999 35.924858)</td>\n",
              "    </tr>\n",
              "  </tbody>\n",
              "</table>\n",
              "</div>"
            ],
            "text/plain": [
              "                    Locations  ...                                      geometry\n",
              "0             Airport Gardens  ...  POINT (-79.05571500000001 35.92052899999999)\n",
              "1     Dobbins Hill Apartments  ...                  POINT (-79.015435 35.946027)\n",
              "2                    Eastwood  ...                   POINT (-79.046989 35.94713)\n",
              "3  Hargraves Community Center  ...          POINT (-79.06389399999999 35.912903)\n",
              "4          S Estes Apartments  ...          POINT (-79.02400799999999 35.924858)\n",
              "\n",
              "[5 rows x 5 columns]"
            ]
          },
          "metadata": {
            "tags": []
          },
          "execution_count": 4
        }
      ]
    },
    {
      "cell_type": "code",
      "metadata": {
        "id": "0RikTUf89Dh6",
        "colab_type": "code",
        "outputId": "1fb9d6b6-a07f-4d8c-f6d0-6ffbbb38814f",
        "colab": {
          "base_uri": "https://localhost:8080/",
          "height": 286
        }
      },
      "source": [
        "pickupLocations.plot()"
      ],
      "execution_count": 5,
      "outputs": [
        {
          "output_type": "execute_result",
          "data": {
            "text/plain": [
              "<matplotlib.axes._subplots.AxesSubplot at 0x7f4e1148fe80>"
            ]
          },
          "metadata": {
            "tags": []
          },
          "execution_count": 5
        },
        {
          "output_type": "display_data",
          "data": {
            "image/png": "[encoded data removed]",
            "text/plain": [
              "<Figure size 432x288 with 1 Axes>"
            ]
          },
          "metadata": {
            "tags": []
          }
        }
      ]
    },
    {
      "cell_type": "code",
      "metadata": {
        "id": "pr5qcpS1AXTc",
        "colab_type": "code",
        "outputId": "1304c012-4531-4a82-b57d-aebf0907374c",
        "colab": {
          "base_uri": "https://localhost:8080/",
          "height": 1176
        }
      },
      "source": [
        "def map_region(region):\n",
        "  bounds = folium.GeoJson(region).get_bounds()\n",
        "  center = [(bounds[0][0] + bounds[1][0]) / 2, (bounds[0][1] + bounds[1][1]) / 2]\n",
        "  m = folium.Map(\n",
        "    location=center,\n",
        "    zoom_start=14,\n",
        "    tiles='OpenStreetMap'  \n",
        "  )\n",
        "\n",
        "\n",
        "#   test = folium.Html('<b>Hello world</b>', script=True)\n",
        "#   popup = \n",
        "\n",
        "\n",
        "  for index, row in region.iterrows():\n",
        "    folium.Marker([row['lat'], row['lng']], popup=\"<strong>\"+row['Locations']+\"</strong>\"+\"\\n\"+row['Address']).add_to(m)\n",
        "#     folium.Popup(max_width=600).add_to(m)\n",
        "\n",
        "  return m\n",
        "  \n",
        "map_region(pickupLocations)"
      ],
      "execution_count": 23,
      "outputs": [
        {
          "output_type": "execute_result",
          "data": {
            "text/html": [
              "<div style=\"width:100%;\"><div style=\"position:relative;width:100%;height:0;padding-bottom:60%;\"><iframe src=\"data:text/html;charset=utf-8;base64,PCFET0NUWVBFIGh0bWw+CjxoZWFkPiAgICAKICAgIDxtZXRhIGh0dHAtZXF1aXY9ImNvbnRlbnQtdHlwZSIgY29udGVudD0idGV4dC9odG1sOyBjaGFyc2V0PVVURi04IiAvPgogICAgPHNjcmlwdD5MX1BSRUZFUl9DQU5WQVM9ZmFsc2U7IExfTk9fVE9VQ0g9ZmFsc2U7IExfRElTQUJMRV8zRD1mYWxzZTs8L3NjcmlwdD4KICAgIDxzY3JpcHQgc3JjPSJodHRwczovL2Nkbi5qc2RlbGl2ci5uZXQvbnBtL2xlYWZsZXRAMS40LjAvZGlzdC9sZWFmbGV0LmpzIj48L3NjcmlwdD4KICAgIDxzY3JpcHQgc3JjPSJodHRwczovL2NvZGUuanF1ZXJ5LmNvbS9qcXVlcnktMS4xMi40Lm1pbi5qcyI+PC9zY3JpcHQ+CiAgICA8c2NyaXB0IHNyYz0iaHR0cHM6Ly9tYXhjZG4uYm9vdHN0cmFwY2RuLmNvbS9ib290c3RyYXAvMy4yLjAvanMvYm9vdHN0cmFwLm1pbi5qcyI+PC9zY3JpcHQ+CiAgICA8c2NyaXB0IHNyYz0iaHR0cHM6Ly9jZG5qcy5jbG91ZGZsYXJlLmNvbS9hamF4L2xpYnMvTGVhZmxldC5hd2Vzb21lLW1hcmtlcnMvMi4wLjIvbGVhZmxldC5hd2Vzb21lLW1hcmtlcnMuanMiPjwvc2NyaXB0PgogICAgPGxpbmsgcmVsPSJzdHlsZXNoZWV0IiBocmVmPSJodHRwczovL2Nkbi5qc2RlbGl2ci5uZXQvbnBtL2xlYWZsZXRAMS40LjAvZGlzdC9sZWFmbGV0LmNzcyIvPgogICAgPGxpbmsgcmVsPSJzdHlsZXNoZWV0IiBocmVmPSJodHRwczovL21heGNkbi5ib290c3RyYXBjZG4uY29tL2Jvb3RzdHJhcC8zLjIuMC9jc3MvYm9vdHN0cmFwLm1pbi5jc3MiLz4KICAgIDxsaW5rIHJlbD0ic3R5bGVzaGVldCIgaHJlZj0iaHR0cHM6Ly9tYXhjZG4uYm9vdHN0cmFwY2RuLmNvbS9ib290c3RyYXAvMy4yLjAvY3NzL2Jvb3RzdHJhcC10aGVtZS5taW4uY3NzIi8+CiAgICA8bGluayByZWw9InN0eWxlc2hlZXQiIGhyZWY9Imh0dHBzOi8vbWF4Y2RuLmJvb3RzdHJhcGNkbi5jb20vZm9udC1hd2Vzb21lLzQuNi4zL2Nzcy9mb250LWF3ZXNvbWUubWluLmNzcyIvPgogICAgPGxpbmsgcmVsPSJzdHlsZXNoZWV0IiBocmVmPSJodHRwczovL2NkbmpzLmNsb3VkZmxhcmUuY29tL2FqYXgvbGlicy9MZWFmbGV0LmF3ZXNvbWUtbWFya2Vycy8yLjAuMi9sZWFmbGV0LmF3ZXNvbWUtbWFya2Vycy5jc3MiLz4KICAgIDxsaW5rIHJlbD0ic3R5bGVzaGVldCIgaHJlZj0iaHR0cHM6Ly9yYXdjZG4uZ2l0aGFjay5jb20vcHl0aG9uLXZpc3VhbGl6YXRpb24vZm9saXVtL21hc3Rlci9mb2xpdW0vdGVtcGxhdGVzL2xlYWZsZXQuYXdlc29tZS5yb3RhdGUuY3NzIi8+CiAgICA8c3R5bGU+aHRtbCwgYm9keSB7d2lkdGg6IDEwMCU7aGVpZ2h0OiAxMDAlO21hcmdpbjogMDtwYWRkaW5nOiAwO308L3N0eWxlPgogICAgPHN0eWxlPiNtYXAge3Bvc2l0aW9uOmFic29sdXRlO3RvcDowO2JvdHRvbTowO3JpZ2h0OjA7bGVmdDowO308L3N0eWxlPgogICAgCiAgICA8bWV0YSBuYW1lPSJ2aWV3cG9ydCIgY29udGVudD0id2lkdGg9ZGV2aWNlLXdpZHRoLAogICAgICAgIGluaXRpYWwtc2NhbGU9MS4wLCBtYXhpbXVtLXNjYWxlPTEuMCwgdXNlci1zY2FsYWJsZT1ubyIgLz4KICAgIDxzdHlsZT4jbWFwX2FkNWMzNjVmMDZlMDQzZTE4MjNkMDAxYmQwMTkyN2NjIHsKICAgICAgICBwb3NpdGlvbjogcmVsYXRpdmU7CiAgICAgICAgd2lkdGg6IDEwMC4wJTsKICAgICAgICBoZWlnaHQ6IDEwMC4wJTsKICAgICAgICBsZWZ0OiAwLjAlOwogICAgICAgIHRvcDogMC4wJTsKICAgICAgICB9CiAgICA8L3N0eWxlPgo8L2hlYWQ+Cjxib2R5PiAgICAKICAgIAogICAgPGRpdiBjbGFzcz0iZm9saXVtLW1hcCIgaWQ9Im1hcF9hZDVjMzY1ZjA2ZTA0M2UxODIzZDAwMWJkMDE5MjdjYyIgPjwvZGl2Pgo8L2JvZHk+CjxzY3JpcHQ+ICAgIAogICAgCiAgICAKICAgICAgICB2YXIgYm91bmRzID0gbnVsbDsKICAgIAoKICAgIHZhciBtYXBfYWQ1YzM2NWYwNmUwNDNlMTgyM2QwMDFiZDAxOTI3Y2MgPSBMLm1hcCgKICAgICAgICAnbWFwX2FkNWMzNjVmMDZlMDQzZTE4MjNkMDAxYmQwMTkyN2NjJywgewogICAgICAgIGNlbnRlcjogWzM1LjkzMDAxNjUsIC03OS4wMzk2NjQ0OTk5OTk5OV0sCiAgICAgICAgem9vbTogMTQsCiAgICAgICAgbWF4Qm91bmRzOiBib3VuZHMsCiAgICAgICAgbGF5ZXJzOiBbXSwKICAgICAgICB3b3JsZENvcHlKdW1wOiBmYWxzZSwKICAgICAgICBjcnM6IEwuQ1JTLkVQU0czODU3LAogICAgICAgIHpvb21Db250cm9sOiB0cnVlLAogICAgICAgIH0pOwoKCiAgICAKICAgIHZhciB0aWxlX2xheWVyXzIwMDkxZjkxZThiMjQxYzhhNmQ5ZWYyMGFjODk1NWI0ID0gTC50aWxlTGF5ZXIoCiAgICAgICAgJ2h0dHBzOi8ve3N9LnRpbGUub3BlbnN0cmVldG1hcC5vcmcve3p9L3t4fS97eX0ucG5nJywKICAgICAgICB7CiAgICAgICAgImF0dHJpYnV0aW9uIjogbnVsbCwKICAgICAgICAiZGV0ZWN0UmV0aW5hIjogZmFsc2UsCiAgICAgICAgIm1heE5hdGl2ZVpvb20iOiAxOCwKICAgICAgICAibWF4Wm9vbSI6IDE4LAogICAgICAgICJtaW5ab29tIjogMCwKICAgICAgICAibm9XcmFwIjogZmFsc2UsCiAgICAgICAgIm9wYWNpdHkiOiAxLAogICAgICAgICJzdWJkb21haW5zIjogImFiYyIsCiAgICAgICAgInRtcyI6IGZhbHNlCn0pLmFkZFRvKG1hcF9hZDVjMzY1ZjA2ZTA0M2UxODIzZDAwMWJkMDE5MjdjYyk7CiAgICAKICAgICAgICB2YXIgbWFya2VyX2VlMjNhYThiMGNiMTRiMTc4MzFjNWU3M2M4MjU1MWUwID0gTC5tYXJrZXIoCiAgICAgICAgICAgIFszNS45MjA1Mjg5OTk5OTk5OTUsIC03OS4wNTU3MTVdLAogICAgICAgICAgICB7CiAgICAgICAgICAgICAgICBpY29uOiBuZXcgTC5JY29uLkRlZmF1bHQoKSwKICAgICAgICAgICAgICAgIH0KICAgICAgICAgICAgKS5hZGRUbyhtYXBfYWQ1YzM2NWYwNmUwNDNlMTgyM2QwMDFiZDAxOTI3Y2MpOwogICAgICAgIAogICAgCiAgICAgICAgICAgIHZhciBwb3B1cF82MTk4YmZhNDFjZWI0Y2IwYWNlYmIyNmQ2YzAxZTE1OCA9IEwucG9wdXAoe21heFdpZHRoOiAnMTAwJScKICAgICAgICAgICAgCiAgICAgICAgICAgIH0pOwoKICAgICAgICAgICAgCiAgICAgICAgICAgICAgICB2YXIgaHRtbF82MTU3ODlmMjliMWU0YzlmYjYzZjUxMmU0Yzg2ZjE1OCA9ICQoYDxkaXYgaWQ9Imh0bWxfNjE1Nzg5ZjI5YjFlNGM5ZmI2M2Y1MTJlNGM4NmYxNTgiIHN0eWxlPSJ3aWR0aDogMTAwLjAlOyBoZWlnaHQ6IDEwMC4wJTsiPjxzdHJvbmc+QWlycG9ydCBHYXJkZW5zPC9zdHJvbmc+IDgxNSBNYXJ0aW4gTHV0aGVyIEtpbmcgSnIuLCBCbHZkLCBDaGFwZWwgSGlsbCwgTkMgMjc1MTQ8L2Rpdj5gKVswXTsKICAgICAgICAgICAgICAgIHBvcHVwXzYxOThiZmE0MWNlYjRjYjBhY2ViYjI2ZDZjMDFlMTU4LnNldENvbnRlbnQoaHRtbF82MTU3ODlmMjliMWU0YzlmYjYzZjUxMmU0Yzg2ZjE1OCk7CiAgICAgICAgICAgIAoKICAgICAgICAgICAgbWFya2VyX2VlMjNhYThiMGNiMTRiMTc4MzFjNWU3M2M4MjU1MWUwLmJpbmRQb3B1cChwb3B1cF82MTk4YmZhNDFjZWI0Y2IwYWNlYmIyNmQ2YzAxZTE1OCkKICAgICAgICAgICAgOwoKICAgICAgICAgICAgCiAgICAgICAgCiAgICAKICAgICAgICB2YXIgbWFya2VyXzI5YThhMDY3NDllZDRmYzQ5ZWZkMmY0Y2ZlNGRkYzRkID0gTC5tYXJrZXIoCiAgICAgICAgICAgIFszNS45NDYwMjcsIC03OS4wMTU0MzVdLAogICAgICAgICAgICB7CiAgICAgICAgICAgICAgICBpY29uOiBuZXcgTC5JY29uLkRlZmF1bHQoKSwKICAgICAgICAgICAgICAgIH0KICAgICAgICAgICAgKS5hZGRUbyhtYXBfYWQ1YzM2NWYwNmUwNDNlMTgyM2QwMDFiZDAxOTI3Y2MpOwogICAgICAgIAogICAgCiAgICAgICAgICAgIHZhciBwb3B1cF80Y2VjMjliZGE1Njg0MTExOTJlMzRmYzI2NzdkOGJhMyA9IEwucG9wdXAoe21heFdpZHRoOiAnMTAwJScKICAgICAgICAgICAgCiAgICAgICAgICAgIH0pOwoKICAgICAgICAgICAgCiAgICAgICAgICAgICAgICB2YXIgaHRtbF8wZDE3MDc5NjRhNjQ0ZWQ3YjAzNmUxYzkzOTExZWZkNiA9ICQoYDxkaXYgaWQ9Imh0bWxfMGQxNzA3OTY0YTY0NGVkN2IwMzZlMWM5MzkxMWVmZDYiIHN0eWxlPSJ3aWR0aDogMTAwLjAlOyBoZWlnaHQ6IDEwMC4wJTsiPjxzdHJvbmc+RG9iYmlucyBIaWxsIEFwYXJ0bWVudHM8L3N0cm9uZz4gMTc0OSBEb2JiaW5zIERyaXZlLCBDaGFwZWwgSGlsbCwgTkMgMjc1MTQ8L2Rpdj5gKVswXTsKICAgICAgICAgICAgICAgIHBvcHVwXzRjZWMyOWJkYTU2ODQxMTE5MmUzNGZjMjY3N2Q4YmEzLnNldENvbnRlbnQoaHRtbF8wZDE3MDc5NjRhNjQ0ZWQ3YjAzNmUxYzkzOTExZWZkNik7CiAgICAgICAgICAgIAoKICAgICAgICAgICAgbWFya2VyXzI5YThhMDY3NDllZDRmYzQ5ZWZkMmY0Y2ZlNGRkYzRkLmJpbmRQb3B1cChwb3B1cF80Y2VjMjliZGE1Njg0MTExOTJlMzRmYzI2NzdkOGJhMykKICAgICAgICAgICAgOwoKICAgICAgICAgICAgCiAgICAgICAgCiAgICAKICAgICAgICB2YXIgbWFya2VyXzg3M2ZhYTRjMTg4MTQ4YzE5YTQ4NDIyZmVhY2E1YWMyID0gTC5tYXJrZXIoCiAgICAgICAgICAgIFszNS45NDcxMywgLTc5LjA0Njk4OV0sCiAgICAgICAgICAgIHsKICAgICAgICAgICAgICAgIGljb246IG5ldyBMLkljb24uRGVmYXVsdCgpLAogICAgICAgICAgICAgICAgfQogICAgICAgICAgICApLmFkZFRvKG1hcF9hZDVjMzY1ZjA2ZTA0M2UxODIzZDAwMWJkMDE5MjdjYyk7CiAgICAgICAgCiAgICAKICAgICAgICAgICAgdmFyIHBvcHVwX2IzOTc3OGE2YTEyZTQwZTZhN2ViNzk0YjQwZGI0ZTZhID0gTC5wb3B1cCh7bWF4V2lkdGg6ICcxMDAlJwogICAgICAgICAgICAKICAgICAgICAgICAgfSk7CgogICAgICAgICAgICAKICAgICAgICAgICAgICAgIHZhciBodG1sXzExMmE4MGZmZWQ4ODQwY2JiOGY3Y2U0N2UyYTdhNmUwID0gJChgPGRpdiBpZD0iaHRtbF8xMTJhODBmZmVkODg0MGNiYjhmN2NlNDdlMmE3YTZlMCIgc3R5bGU9IndpZHRoOiAxMDAuMCU7IGhlaWdodDogMTAwLjAlOyI+PHN0cm9uZz5FYXN0d29vZDwvc3Ryb25nPiAxMDAgTG91aXMgQXJtc3Ryb25nIENvdXJ0LCBDaGFwZWwgSGlsbCwgTkMgMjc1MTQ8L2Rpdj5gKVswXTsKICAgICAgICAgICAgICAgIHBvcHVwX2IzOTc3OGE2YTEyZTQwZTZhN2ViNzk0YjQwZGI0ZTZhLnNldENvbnRlbnQoaHRtbF8xMTJhODBmZmVkODg0MGNiYjhmN2NlNDdlMmE3YTZlMCk7CiAgICAgICAgICAgIAoKICAgICAgICAgICAgbWFya2VyXzg3M2ZhYTRjMTg4MTQ4YzE5YTQ4NDIyZmVhY2E1YWMyLmJpbmRQb3B1cChwb3B1cF9iMzk3NzhhNmExMmU0MGU2YTdlYjc5NGI0MGRiNGU2YSkKICAgICAgICAgICAgOwoKICAgICAgICAgICAgCiAgICAgICAgCiAgICAKICAgICAgICB2YXIgbWFya2VyX2JiMzUxNzY0Y2I1ODRhMDA5Y2E5MjA0NWMzOGFmYjRmID0gTC5tYXJrZXIoCiAgICAgICAgICAgIFszNS45MTI5MDMsIC03OS4wNjM4OTM5OTk5OTk5OV0sCiAgICAgICAgICAgIHsKICAgICAgICAgICAgICAgIGljb246IG5ldyBMLkljb24uRGVmYXVsdCgpLAogICAgICAgICAgICAgICAgfQogICAgICAgICAgICApLmFkZFRvKG1hcF9hZDVjMzY1ZjA2ZTA0M2UxODIzZDAwMWJkMDE5MjdjYyk7CiAgICAgICAgCiAgICAKICAgICAgICAgICAgdmFyIHBvcHVwXzg5ZDBkY2Q1MDJiOTQ5OTRiMGY2NDE3YmE2ZmFiMDg0ID0gTC5wb3B1cCh7bWF4V2lkdGg6ICcxMDAlJwogICAgICAgICAgICAKICAgICAgICAgICAgfSk7CgogICAgICAgICAgICAKICAgICAgICAgICAgICAgIHZhciBodG1sX2ViNDQ5NDIwMzA2NzQ3NDk5OGRiMzQzYmI4Y2UyNzcwID0gJChgPGRpdiBpZD0iaHRtbF9lYjQ0OTQyMDMwNjc0NzQ5OThkYjM0M2JiOGNlMjc3MCIgc3R5bGU9IndpZHRoOiAxMDAuMCU7IGhlaWdodDogMTAwLjAlOyI+PHN0cm9uZz5IYXJncmF2ZXMgQ29tbXVuaXR5IENlbnRlcjwvc3Ryb25nPiAyMTYgTiBSb2JlcnNvbiBTdCwgQ2hhcGVsIEhpbGwgMjc1MTY8L2Rpdj5gKVswXTsKICAgICAgICAgICAgICAgIHBvcHVwXzg5ZDBkY2Q1MDJiOTQ5OTRiMGY2NDE3YmE2ZmFiMDg0LnNldENvbnRlbnQoaHRtbF9lYjQ0OTQyMDMwNjc0NzQ5OThkYjM0M2JiOGNlMjc3MCk7CiAgICAgICAgICAgIAoKICAgICAgICAgICAgbWFya2VyX2JiMzUxNzY0Y2I1ODRhMDA5Y2E5MjA0NWMzOGFmYjRmLmJpbmRQb3B1cChwb3B1cF84OWQwZGNkNTAyYjk0OTk0YjBmNjQxN2JhNmZhYjA4NCkKICAgICAgICAgICAgOwoKICAgICAgICAgICAgCiAgICAgICAgCiAgICAKICAgICAgICB2YXIgbWFya2VyX2JmYmEwN2ZhODk3ZjQ2MzBhOWU5YWU0YThiMjJiMzkzID0gTC5tYXJrZXIoCiAgICAgICAgICAgIFszNS45MjQ4NTgsIC03OS4wMjQwMDhdLAogICAgICAgICAgICB7CiAgICAgICAgICAgICAgICBpY29uOiBuZXcgTC5JY29uLkRlZmF1bHQoKSwKICAgICAgICAgICAgICAgIH0KICAgICAgICAgICAgKS5hZGRUbyhtYXBfYWQ1YzM2NWYwNmUwNDNlMTgyM2QwMDFiZDAxOTI3Y2MpOwogICAgICAgIAogICAgCiAgICAgICAgICAgIHZhciBwb3B1cF83YzY5OGExMmI5MjM0YTVhYTNlMGE0N2QxNjU0OGNhNyA9IEwucG9wdXAoe21heFdpZHRoOiAnMTAwJScKICAgICAgICAgICAgCiAgICAgICAgICAgIH0pOwoKICAgICAgICAgICAgCiAgICAgICAgICAgICAgICB2YXIgaHRtbF85ZmFiNjA5YTg1OWU0YmFlOTQzYWFhY2ZhZjMwZTE3OSA9ICQoYDxkaXYgaWQ9Imh0bWxfOWZhYjYwOWE4NTllNGJhZTk0M2FhYWNmYWYzMGUxNzkiIHN0eWxlPSJ3aWR0aDogMTAwLjAlOyBoZWlnaHQ6IDEwMC4wJTsiPjxzdHJvbmc+UyBFc3RlcyBBcGFydG1lbnRzPC9zdHJvbmc+IDMwMSBTIEVzdGVzIERyaXZlLCBDaGFwZWwgSGlsbCwgTkMgMjc1MTc8L2Rpdj5gKVswXTsKICAgICAgICAgICAgICAgIHBvcHVwXzdjNjk4YTEyYjkyMzRhNWFhM2UwYTQ3ZDE2NTQ4Y2E3LnNldENvbnRlbnQoaHRtbF85ZmFiNjA5YTg1OWU0YmFlOTQzYWFhY2ZhZjMwZTE3OSk7CiAgICAgICAgICAgIAoKICAgICAgICAgICAgbWFya2VyX2JmYmEwN2ZhODk3ZjQ2MzBhOWU5YWU0YThiMjJiMzkzLmJpbmRQb3B1cChwb3B1cF83YzY5OGExMmI5MjM0YTVhYTNlMGE0N2QxNjU0OGNhNykKICAgICAgICAgICAgOwoKICAgICAgICAgICAgCiAgICAgICAgCiAgICAKICAgICAgICB2YXIgbWFya2VyXzJlZmRjMTRhYmIyMDQ0M2VhNGVhMTc1YTBlMDE3MjFjID0gTC5tYXJrZXIoCiAgICAgICAgICAgIFszNS45MTc0MjksIC03OS4wNjMyOTAwMDAwMDAwMV0sCiAgICAgICAgICAgIHsKICAgICAgICAgICAgICAgIGljb246IG5ldyBMLkljb24uRGVmYXVsdCgpLAogICAgICAgICAgICAgICAgfQogICAgICAgICAgICApLmFkZFRvKG1hcF9hZDVjMzY1ZjA2ZTA0M2UxODIzZDAwMWJkMDE5MjdjYyk7CiAgICAgICAgCiAgICAKICAgICAgICAgICAgdmFyIHBvcHVwX2MyMDA1NDljZDUyODRmMGE5N2U0NGEzZmU0YjFlNTE3ID0gTC5wb3B1cCh7bWF4V2lkdGg6ICcxMDAlJwogICAgICAgICAgICAKICAgICAgICAgICAgfSk7CgogICAgICAgICAgICAKICAgICAgICAgICAgICAgIHZhciBodG1sXzE4OTkzZWJhODEyYzRjZWZiODA5YTQwNDdmOTFmOWM3ID0gJChgPGRpdiBpZD0iaHRtbF8xODk5M2ViYTgxMmM0Y2VmYjgwOWE0MDQ3ZjkxZjljNyIgc3R5bGU9IndpZHRoOiAxMDAuMCU7IGhlaWdodDogMTAwLjAlOyI+PHN0cm9uZz5Ob3J0aHNpZGU8L3N0cm9uZz4gIDM1MCBDYWxkd2VsbCBTdHJlZXQsIENoYXBlbCBIaWxsLCBOQyAyNzUxNjwvZGl2PmApWzBdOwogICAgICAgICAgICAgICAgcG9wdXBfYzIwMDU0OWNkNTI4NGYwYTk3ZTQ0YTNmZTRiMWU1MTcuc2V0Q29udGVudChodG1sXzE4OTkzZWJhODEyYzRjZWZiODA5YTQwNDdmOTFmOWM3KTsKICAgICAgICAgICAgCgogICAgICAgICAgICBtYXJrZXJfMmVmZGMxNGFiYjIwNDQzZWE0ZWExNzVhMGUwMTcyMWMuYmluZFBvcHVwKHBvcHVwX2MyMDA1NDljZDUyODRmMGE5N2U0NGEzZmU0YjFlNTE3KQogICAgICAgICAgICA7CgogICAgICAgICAgICAKICAgICAgICAKPC9zY3JpcHQ+\" style=\"position:absolute;width:100%;height:100%;left:0;top:0;border:none !important;\" allowfullscreen webkitallowfullscreen mozallowfullscreen></iframe></div></div>"
            ],
            "text/plain": [
              "<folium.folium.Map at 0x7f4e0e4d2b38>"
            ]
          },
          "metadata": {
            "tags": []
          },
          "execution_count": 23
        }
      ]
    },
    {
      "cell_type": "code",
      "metadata": {
        "id": "4SLxEqXBZneX",
        "colab_type": "code",
        "colab": {}
      },
      "source": [
        ""
      ],
      "execution_count": 0,
      "outputs": []
    },
    {
      "cell_type": "code",
      "metadata": {
        "id": "QRH_d7wnaqx6",
        "colab_type": "code",
        "colab": {}
      },
      "source": [
        ""
      ],
      "execution_count": 0,
      "outputs": []
    }
  ]
}