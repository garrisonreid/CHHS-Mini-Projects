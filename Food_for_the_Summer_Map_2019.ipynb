{
  "nbformat": 4,
  "nbformat_minor": 0,
  "metadata": {
    "colab": {
      "name": "Food for the Summer Map 2019",
      "version": "0.3.2",
      "provenance": [],
      "collapsed_sections": [],
      "include_colab_link": true
    },
    "kernelspec": {
      "name": "python3",
      "display_name": "Python 3"
    }
  },
  "cells": [
    {
      "cell_type": "markdown",
      "metadata": {
        "id": "view-in-github",
        "colab_type": "text"
      },
      "source": [
        "<a href=\"https://colab.research.google.com/github/garrisonreid/CHHS-Mini-Projects/blob/master/Food_for_the_Summer_Map_2019.ipynb\" target=\"_parent\"><img src=\"https://colab.research.google.com/assets/colab-badge.svg\" alt=\"Open In Colab\"/></a>"
      ]
    },
    {
      "cell_type": "code",
      "metadata": {
        "id": "to6yyv0p60S2",
        "colab_type": "code",
        "outputId": "eadbdb52-66d7-4bb2-f902-e43c69f315c3",
        "colab": {
          "base_uri": "https://localhost:8080/",
          "height": 527
        }
      },
      "source": [
        "!pip install pandas\n",
        "!pip install folium\n",
        "!pip install geopandas"
      ],
      "execution_count": 0,
      "outputs": [
        {
          "output_type": "stream",
          "text": [
            "Requirement already satisfied: pandas in /usr/local/lib/python3.6/dist-packages (0.24.2)\n",
            "Requirement already satisfied: pytz>=2011k in /usr/local/lib/python3.6/dist-packages (from pandas) (2018.9)\n",
            "Requirement already satisfied: python-dateutil>=2.5.0 in /usr/local/lib/python3.6/dist-packages (from pandas) (2.5.3)\n",
            "Requirement already satisfied: numpy>=1.12.0 in /usr/local/lib/python3.6/dist-packages (from pandas) (1.16.3)\n",
            "Requirement already satisfied: six>=1.5 in /usr/local/lib/python3.6/dist-packages (from python-dateutil>=2.5.0->pandas) (1.12.0)\n",
            "Requirement already satisfied: folium in /usr/local/lib/python3.6/dist-packages (0.8.3)\n",
            "Requirement already satisfied: jinja2 in /usr/local/lib/python3.6/dist-packages (from folium) (2.10.1)\n",
            "Requirement already satisfied: branca>=0.3.0 in /usr/local/lib/python3.6/dist-packages (from folium) (0.3.1)\n",
            "Requirement already satisfied: numpy in /usr/local/lib/python3.6/dist-packages (from folium) (1.16.3)\n",
            "Requirement already satisfied: six in /usr/local/lib/python3.6/dist-packages (from folium) (1.12.0)\n",
            "Requirement already satisfied: requests in /usr/local/lib/python3.6/dist-packages (from folium) (2.21.0)\n",
            "Requirement already satisfied: MarkupSafe>=0.23 in /usr/local/lib/python3.6/dist-packages (from jinja2->folium) (1.1.1)\n",
            "Requirement already satisfied: chardet<3.1.0,>=3.0.2 in /usr/local/lib/python3.6/dist-packages (from requests->folium) (3.0.4)\n",
            "Requirement already satisfied: urllib3<1.25,>=1.21.1 in /usr/local/lib/python3.6/dist-packages (from requests->folium) (1.24.3)\n",
            "Requirement already satisfied: idna<2.9,>=2.5 in /usr/local/lib/python3.6/dist-packages (from requests->folium) (2.8)\n",
            "Requirement already satisfied: certifi>=2017.4.17 in /usr/local/lib/python3.6/dist-packages (from requests->folium) (2019.3.9)\n",
            "Requirement already satisfied: geopandas in /usr/local/lib/python3.6/dist-packages (0.5.0)\n",
            "Requirement already satisfied: shapely in /usr/local/lib/python3.6/dist-packages (from geopandas) (1.6.4.post2)\n",
            "Requirement already satisfied: pandas in /usr/local/lib/python3.6/dist-packages (from geopandas) (0.24.2)\n",
            "Requirement already satisfied: fiona in /usr/local/lib/python3.6/dist-packages (from geopandas) (1.8.6)\n",
            "Requirement already satisfied: pyproj in /usr/local/lib/python3.6/dist-packages (from geopandas) (2.1.3)\n",
            "Requirement already satisfied: python-dateutil>=2.5.0 in /usr/local/lib/python3.6/dist-packages (from pandas->geopandas) (2.5.3)\n",
            "Requirement already satisfied: numpy>=1.12.0 in /usr/local/lib/python3.6/dist-packages (from pandas->geopandas) (1.16.3)\n",
            "Requirement already satisfied: pytz>=2011k in /usr/local/lib/python3.6/dist-packages (from pandas->geopandas) (2018.9)\n",
            "Requirement already satisfied: munch in /usr/local/lib/python3.6/dist-packages (from fiona->geopandas) (2.3.2)\n",
            "Requirement already satisfied: cligj>=0.5 in /usr/local/lib/python3.6/dist-packages (from fiona->geopandas) (0.5.0)\n",
            "Requirement already satisfied: six>=1.7 in /usr/local/lib/python3.6/dist-packages (from fiona->geopandas) (1.12.0)\n",
            "Requirement already satisfied: click<8,>=4.0 in /usr/local/lib/python3.6/dist-packages (from fiona->geopandas) (7.0)\n",
            "Requirement already satisfied: click-plugins>=1.0 in /usr/local/lib/python3.6/dist-packages (from fiona->geopandas) (1.1.1)\n",
            "Requirement already satisfied: attrs>=17 in /usr/local/lib/python3.6/dist-packages (from fiona->geopandas) (19.1.0)\n"
          ],
          "name": "stdout"
        }
      ]
    },
    {
      "cell_type": "code",
      "metadata": {
        "id": "O9Beyy106TlI",
        "colab_type": "code",
        "outputId": "fcc3194e-e48f-4834-8f1f-b9c7ce8bad62",
        "colab": {
          "base_uri": "https://localhost:8080/",
          "height": 204
        }
      },
      "source": [
        "import pandas as pd\n",
        "import geopandas as gpd\n",
        "from shapely.geometry import Point\n",
        "import folium\n",
        "\n",
        "df = pd.read_csv(\"https://docs.google.com/spreadsheets/d/e/2PACX-1vSoqxUNXIPAXbixYIURlnr_K0_FwJ_z4dUUd_0xHufba-Tnn1ULZa6NtSyNJU4odxKtSKFvmm9qe_Yw/pub?gid=1896976877&single=true&output=csv\")\n",
        "df.head()"
      ],
      "execution_count": 0,
      "outputs": [
        {
          "output_type": "execute_result",
          "data": {
            "text/html": [
              "<div>\n",
              "<style scoped>\n",
              "    .dataframe tbody tr th:only-of-type {\n",
              "        vertical-align: middle;\n",
              "    }\n",
              "\n",
              "    .dataframe tbody tr th {\n",
              "        vertical-align: top;\n",
              "    }\n",
              "\n",
              "    .dataframe thead th {\n",
              "        text-align: right;\n",
              "    }\n",
              "</style>\n",
              "<table border=\"1\" class=\"dataframe\">\n",
              "  <thead>\n",
              "    <tr style=\"text-align: right;\">\n",
              "      <th></th>\n",
              "      <th>Locations</th>\n",
              "      <th>Address</th>\n",
              "      <th>lat</th>\n",
              "      <th>lng</th>\n",
              "    </tr>\n",
              "  </thead>\n",
              "  <tbody>\n",
              "    <tr>\n",
              "      <th>0</th>\n",
              "      <td>Airport Gardens</td>\n",
              "      <td>815 Martin Luther King Jr., Blvd, Chapel Hill,...</td>\n",
              "      <td>35.920529</td>\n",
              "      <td>-79.055715</td>\n",
              "    </tr>\n",
              "    <tr>\n",
              "      <th>1</th>\n",
              "      <td>Dobbins Hill Apartments</td>\n",
              "      <td>1749 Dobbins Drive, Chapel Hill, NC 27514</td>\n",
              "      <td>35.946027</td>\n",
              "      <td>-79.015435</td>\n",
              "    </tr>\n",
              "    <tr>\n",
              "      <th>2</th>\n",
              "      <td>Eastwood</td>\n",
              "      <td>100 Louis Armstrong Court, Chapel Hill, NC 27514</td>\n",
              "      <td>35.947130</td>\n",
              "      <td>-79.046989</td>\n",
              "    </tr>\n",
              "    <tr>\n",
              "      <th>3</th>\n",
              "      <td>Hargraves Community Center</td>\n",
              "      <td>216 N Roberson St, Chapel Hill 27516</td>\n",
              "      <td>35.912903</td>\n",
              "      <td>-79.063894</td>\n",
              "    </tr>\n",
              "    <tr>\n",
              "      <th>4</th>\n",
              "      <td>S Estes Apartments</td>\n",
              "      <td>301 S Estes Drive, Chapel Hill, NC 27517</td>\n",
              "      <td>35.924858</td>\n",
              "      <td>-79.024008</td>\n",
              "    </tr>\n",
              "  </tbody>\n",
              "</table>\n",
              "</div>"
            ],
            "text/plain": [
              "                    Locations  ...        lng\n",
              "0             Airport Gardens  ... -79.055715\n",
              "1     Dobbins Hill Apartments  ... -79.015435\n",
              "2                    Eastwood  ... -79.046989\n",
              "3  Hargraves Community Center  ... -79.063894\n",
              "4          S Estes Apartments  ... -79.024008\n",
              "\n",
              "[5 rows x 4 columns]"
            ]
          },
          "metadata": {
            "tags": []
          },
          "execution_count": 3
        }
      ]
    },
    {
      "cell_type": "code",
      "metadata": {
        "id": "gRumtE617mn9",
        "colab_type": "code",
        "outputId": "2f72d177-89fa-456a-95c0-93cd6faca62d",
        "colab": {
          "base_uri": "https://localhost:8080/",
          "height": 204
        }
      },
      "source": [
        "def make_point(row):\n",
        "    return Point(row.lng, row.lat)\n",
        "\n",
        "def make_marker(row):\n",
        "  return Markers(row.Locations)\n",
        "  \n",
        "# Go through every row, and make a point out of its lat and lon\n",
        "points = df.apply(make_point, axis=1)\n",
        "# markers = df.apply(make_marker, axis=1)\n",
        "\n",
        "# Make a new GeoDataFrame\n",
        "# using the data from our old df\n",
        "# but also adding in the geometry we just made\n",
        "pickupLocations = gpd.GeoDataFrame(df, geometry=points)\n",
        "\n",
        "# It doesn't come with a CRS because it's a CSV, so let's\n",
        "# say \"hey, let's use the standard shape of the earth etc\"\n",
        "pickupLocations.crs = {'init': 'epsg:4326'}\n",
        "\n",
        "# Let's look at the first few\n",
        "pickupLocations.head()\n"
      ],
      "execution_count": 0,
      "outputs": [
        {
          "output_type": "execute_result",
          "data": {
            "text/html": [
              "<div>\n",
              "<style scoped>\n",
              "    .dataframe tbody tr th:only-of-type {\n",
              "        vertical-align: middle;\n",
              "    }\n",
              "\n",
              "    .dataframe tbody tr th {\n",
              "        vertical-align: top;\n",
              "    }\n",
              "\n",
              "    .dataframe thead th {\n",
              "        text-align: right;\n",
              "    }\n",
              "</style>\n",
              "<table border=\"1\" class=\"dataframe\">\n",
              "  <thead>\n",
              "    <tr style=\"text-align: right;\">\n",
              "      <th></th>\n",
              "      <th>Locations</th>\n",
              "      <th>Address</th>\n",
              "      <th>lat</th>\n",
              "      <th>lng</th>\n",
              "      <th>geometry</th>\n",
              "    </tr>\n",
              "  </thead>\n",
              "  <tbody>\n",
              "    <tr>\n",
              "      <th>0</th>\n",
              "      <td>Airport Gardens</td>\n",
              "      <td>815 Martin Luther King Jr., Blvd, Chapel Hill,...</td>\n",
              "      <td>35.920529</td>\n",
              "      <td>-79.055715</td>\n",
              "      <td>POINT (-79.05571500000001 35.92052899999999)</td>\n",
              "    </tr>\n",
              "    <tr>\n",
              "      <th>1</th>\n",
              "      <td>Dobbins Hill Apartments</td>\n",
              "      <td>1749 Dobbins Drive, Chapel Hill, NC 27514</td>\n",
              "      <td>35.946027</td>\n",
              "      <td>-79.015435</td>\n",
              "      <td>POINT (-79.015435 35.946027)</td>\n",
              "    </tr>\n",
              "    <tr>\n",
              "      <th>2</th>\n",
              "      <td>Eastwood</td>\n",
              "      <td>100 Louis Armstrong Court, Chapel Hill, NC 27514</td>\n",
              "      <td>35.947130</td>\n",
              "      <td>-79.046989</td>\n",
              "      <td>POINT (-79.046989 35.94713)</td>\n",
              "    </tr>\n",
              "    <tr>\n",
              "      <th>3</th>\n",
              "      <td>Hargraves Community Center</td>\n",
              "      <td>216 N Roberson St, Chapel Hill 27516</td>\n",
              "      <td>35.912903</td>\n",
              "      <td>-79.063894</td>\n",
              "      <td>POINT (-79.06389399999999 35.912903)</td>\n",
              "    </tr>\n",
              "    <tr>\n",
              "      <th>4</th>\n",
              "      <td>S Estes Apartments</td>\n",
              "      <td>301 S Estes Drive, Chapel Hill, NC 27517</td>\n",
              "      <td>35.924858</td>\n",
              "      <td>-79.024008</td>\n",
              "      <td>POINT (-79.02400799999999 35.924858)</td>\n",
              "    </tr>\n",
              "  </tbody>\n",
              "</table>\n",
              "</div>"
            ],
            "text/plain": [
              "                    Locations  ...                                      geometry\n",
              "0             Airport Gardens  ...  POINT (-79.05571500000001 35.92052899999999)\n",
              "1     Dobbins Hill Apartments  ...                  POINT (-79.015435 35.946027)\n",
              "2                    Eastwood  ...                   POINT (-79.046989 35.94713)\n",
              "3  Hargraves Community Center  ...          POINT (-79.06389399999999 35.912903)\n",
              "4          S Estes Apartments  ...          POINT (-79.02400799999999 35.924858)\n",
              "\n",
              "[5 rows x 5 columns]"
            ]
          },
          "metadata": {
            "tags": []
          },
          "execution_count": 4
        }
      ]
    },
    {
      "cell_type": "code",
      "metadata": {
        "id": "0RikTUf89Dh6",
        "colab_type": "code",
        "outputId": "7b863d75-ad9b-483c-b369-f70d6c8ac105",
        "colab": {
          "base_uri": "https://localhost:8080/",
          "height": 286
        }
      },
      "source": [
        "pickupLocations.plot()"
      ],
      "execution_count": 0,
      "outputs": [
        {
          "output_type": "execute_result",
          "data": {
            "text/plain": [
              "<matplotlib.axes._subplots.AxesSubplot at 0x7fa5c645b978>"
            ]
          },
          "metadata": {
            "tags": []
          },
          "execution_count": 5
        },
        {
          "output_type": "display_data",
          "data": {
            "image/png": "[encoded data removed]",
            "text/plain": [
              "<Figure size 432x288 with 1 Axes>"
            ]
          },
          "metadata": {
            "tags": []
          }
        }
      ]
    },
    {
      "cell_type": "code",
      "metadata": {
        "id": "pr5qcpS1AXTc",
        "colab_type": "code",
        "outputId": "0bb318b4-a0d1-454d-c8e4-adc777c666e0",
        "colab": {
          "base_uri": "https://localhost:8080/",
          "height": 717
        }
      },
      "source": [
        "def map_region(region):\n",
        "  bounds = folium.GeoJson(region).get_bounds()\n",
        "  center = [(bounds[0][0] + bounds[1][0]) / 2, (bounds[0][1] + bounds[1][1]) / 2]\n",
        "  m = folium.Map(\n",
        "    location=center,\n",
        "    zoom_start=13,\n",
        "    tiles='OpenStreetMap'  \n",
        "  )\n",
        "  \n",
        "  for index, row in region.iterrows():\n",
        "    folium.Marker([row['lat'], row['lng']], popup=row['Locations']).add_to(m)\n",
        "\n",
        "  return m\n",
        "  \n",
        "map_region(pickupLocations)"
      ],
      "execution_count": 0,
      "outputs": [
        {
          "output_type": "execute_result",
          "data": {
            "text/html": [
              "<div style=\"width:100%;\"><div style=\"position:relative;width:100%;height:0;padding-bottom:60%;\"><iframe src=\"data:text/html;charset=utf-8;base64,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\" style=\"position:absolute;width:100%;height:100%;left:0;top:0;border:none !important;\" allowfullscreen webkitallowfullscreen mozallowfullscreen></iframe></div></div>"
            ],
            "text/plain": [
              "<folium.folium.Map at 0x7fa5c372ee80>"
            ]
          },
          "metadata": {
            "tags": []
          },
          "execution_count": 7
        }
      ]
    },
    {
      "cell_type": "code",
      "metadata": {
        "id": "4SLxEqXBZneX",
        "colab_type": "code",
        "colab": {}
      },
      "source": [
        ""
      ],
      "execution_count": 0,
      "outputs": []
    },
    {
      "cell_type": "code",
      "metadata": {
        "id": "QRH_d7wnaqx6",
        "colab_type": "code",
        "colab": {}
      },
      "source": [
        ""
      ],
      "execution_count": 0,
      "outputs": []
    }
  ]
}