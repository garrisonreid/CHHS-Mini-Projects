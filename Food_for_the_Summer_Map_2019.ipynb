{
  "nbformat": 4,
  "nbformat_minor": 0,
  "metadata": {
    "colab": {
      "name": "Food for the Summer Map 2019",
      "version": "0.3.2",
      "provenance": [],
      "collapsed_sections": [],
      "include_colab_link": true
    },
    "kernelspec": {
      "name": "python3",
      "display_name": "Python 3"
    }
  },
  "cells": [
    {
      "cell_type": "markdown",
      "metadata": {
        "id": "view-in-github",
        "colab_type": "text"
      },
      "source": [
        "<a href=\"https://colab.research.google.com/github/garrisonreid/CHHS-Mini-Projects/blob/master/Food_for_the_Summer_Map_2019.ipynb\" target=\"_parent\"><img src=\"https://colab.research.google.com/assets/colab-badge.svg\" alt=\"Open In Colab\"/></a>"
      ]
    },
    {
      "cell_type": "code",
      "metadata": {
        "id": "to6yyv0p60S2",
        "colab_type": "code",
        "outputId": "3b4934b0-8ec5-42bc-9114-c1b024f272c5",
        "colab": {
          "base_uri": "https://localhost:8080/",
          "height": 802
        }
      },
      "source": [
        "!pip install pandas\n",
        "!pip install folium\n",
        "!pip install geopandas"
      ],
      "execution_count": 2,
      "outputs": [
        {
          "output_type": "stream",
          "text": [
            "Requirement already satisfied: pandas in /usr/local/lib/python3.6/dist-packages (0.24.2)\n",
            "Requirement already satisfied: numpy>=1.12.0 in /usr/local/lib/python3.6/dist-packages (from pandas) (1.16.3)\n",
            "Requirement already satisfied: python-dateutil>=2.5.0 in /usr/local/lib/python3.6/dist-packages (from pandas) (2.5.3)\n",
            "Requirement already satisfied: pytz>=2011k in /usr/local/lib/python3.6/dist-packages (from pandas) (2018.9)\n",
            "Requirement already satisfied: six>=1.5 in /usr/local/lib/python3.6/dist-packages (from python-dateutil>=2.5.0->pandas) (1.12.0)\n",
            "Requirement already satisfied: folium in /usr/local/lib/python3.6/dist-packages (0.8.3)\n",
            "Requirement already satisfied: numpy in /usr/local/lib/python3.6/dist-packages (from folium) (1.16.3)\n",
            "Requirement already satisfied: branca>=0.3.0 in /usr/local/lib/python3.6/dist-packages (from folium) (0.3.1)\n",
            "Requirement already satisfied: jinja2 in /usr/local/lib/python3.6/dist-packages (from folium) (2.10.1)\n",
            "Requirement already satisfied: requests in /usr/local/lib/python3.6/dist-packages (from folium) (2.21.0)\n",
            "Requirement already satisfied: six in /usr/local/lib/python3.6/dist-packages (from folium) (1.12.0)\n",
            "Requirement already satisfied: MarkupSafe>=0.23 in /usr/local/lib/python3.6/dist-packages (from jinja2->folium) (1.1.1)\n",
            "Requirement already satisfied: idna<2.9,>=2.5 in /usr/local/lib/python3.6/dist-packages (from requests->folium) (2.8)\n",
            "Requirement already satisfied: chardet<3.1.0,>=3.0.2 in /usr/local/lib/python3.6/dist-packages (from requests->folium) (3.0.4)\n",
            "Requirement already satisfied: certifi>=2017.4.17 in /usr/local/lib/python3.6/dist-packages (from requests->folium) (2019.3.9)\n",
            "Requirement already satisfied: urllib3<1.25,>=1.21.1 in /usr/local/lib/python3.6/dist-packages (from requests->folium) (1.24.3)\n",
            "Collecting geopandas\n",
            "\u001b[?25l  Downloading https://files.pythonhosted.org/packages/74/42/f4b147fc7920998a42046d0c2e65e61000bc5d104f1f8aec719612cb2fc8/geopandas-0.5.0-py2.py3-none-any.whl (893kB)\n",
            "\u001b[K     |████████████████████████████████| 901kB 2.8MB/s \n",
            "\u001b[?25hCollecting fiona (from geopandas)\n",
            "\u001b[?25l  Downloading https://files.pythonhosted.org/packages/89/4a/193cd6a75e51062c85f4e1cd6f312b3bbda6e26ba7510f152ef5016f0b16/Fiona-1.8.6-cp36-cp36m-manylinux1_x86_64.whl (17.9MB)\n",
            "\u001b[K     |████████████████████████████████| 17.9MB 32.5MB/s \n",
            "\u001b[?25hRequirement already satisfied: pandas in /usr/local/lib/python3.6/dist-packages (from geopandas) (0.24.2)\n",
            "Collecting pyproj (from geopandas)\n",
            "\u001b[?25l  Downloading https://files.pythonhosted.org/packages/ab/c8/090cd8eae755171959fac28d4bd537cc2caf168caadb92d8e505229c486b/pyproj-2.1.3-cp36-cp36m-manylinux1_x86_64.whl (10.8MB)\n",
            "\u001b[K     |████████████████████████████████| 10.8MB 33.9MB/s \n",
            "\u001b[?25hRequirement already satisfied: shapely in /usr/local/lib/python3.6/dist-packages (from geopandas) (1.6.4.post2)\n",
            "Requirement already satisfied: six>=1.7 in /usr/local/lib/python3.6/dist-packages (from fiona->geopandas) (1.12.0)\n",
            "Requirement already satisfied: attrs>=17 in /usr/local/lib/python3.6/dist-packages (from fiona->geopandas) (19.1.0)\n",
            "Collecting click-plugins>=1.0 (from fiona->geopandas)\n",
            "  Downloading https://files.pythonhosted.org/packages/e9/da/824b92d9942f4e472702488857914bdd50f73021efea15b4cad9aca8ecef/click_plugins-1.1.1-py2.py3-none-any.whl\n",
            "Collecting munch (from fiona->geopandas)\n",
            "  Downloading https://files.pythonhosted.org/packages/68/f4/260ec98ea840757a0da09e0ed8135333d59b8dfebe9752a365b04857660a/munch-2.3.2.tar.gz\n",
            "Requirement already satisfied: click<8,>=4.0 in /usr/local/lib/python3.6/dist-packages (from fiona->geopandas) (7.0)\n",
            "Collecting cligj>=0.5 (from fiona->geopandas)\n",
            "  Downloading https://files.pythonhosted.org/packages/e4/be/30a58b4b0733850280d01f8bd132591b4668ed5c7046761098d665ac2174/cligj-0.5.0-py3-none-any.whl\n",
            "Requirement already satisfied: numpy>=1.12.0 in /usr/local/lib/python3.6/dist-packages (from pandas->geopandas) (1.16.3)\n",
            "Requirement already satisfied: pytz>=2011k in /usr/local/lib/python3.6/dist-packages (from pandas->geopandas) (2018.9)\n",
            "Requirement already satisfied: python-dateutil>=2.5.0 in /usr/local/lib/python3.6/dist-packages (from pandas->geopandas) (2.5.3)\n",
            "Building wheels for collected packages: munch\n",
            "  Building wheel for munch (setup.py) ... \u001b[?25l\u001b[?25hdone\n",
            "  Stored in directory: /root/.cache/pip/wheels/db/bf/bc/06a3e1bfe0ab27d2e720ceb3cff3159398d92644c0cec2c125\n",
            "Successfully built munch\n",
            "Installing collected packages: click-plugins, munch, cligj, fiona, pyproj, geopandas\n",
            "Successfully installed click-plugins-1.1.1 cligj-0.5.0 fiona-1.8.6 geopandas-0.5.0 munch-2.3.2 pyproj-2.1.3\n"
          ],
          "name": "stdout"
        }
      ]
    },
    {
      "cell_type": "code",
      "metadata": {
        "id": "O9Beyy106TlI",
        "colab_type": "code",
        "outputId": "f659bea7-643e-4847-ed33-4c189923ac5e",
        "colab": {
          "base_uri": "https://localhost:8080/",
          "height": 204
        }
      },
      "source": [
        "import pandas as pd\n",
        "import geopandas as gpd\n",
        "from shapely.geometry import Point\n",
        "import folium\n",
        "\n",
        "df = pd.read_csv(\"https://docs.google.com/spreadsheets/d/e/2PACX-1vSoqxUNXIPAXbixYIURlnr_K0_FwJ_z4dUUd_0xHufba-Tnn1ULZa6NtSyNJU4odxKtSKFvmm9qe_Yw/pub?gid=1896976877&single=true&output=csv\")\n",
        "df.head()"
      ],
      "execution_count": 3,
      "outputs": [
        {
          "output_type": "execute_result",
          "data": {
            "text/html": [
              "<div>\n",
              "<style scoped>\n",
              "    .dataframe tbody tr th:only-of-type {\n",
              "        vertical-align: middle;\n",
              "    }\n",
              "\n",
              "    .dataframe tbody tr th {\n",
              "        vertical-align: top;\n",
              "    }\n",
              "\n",
              "    .dataframe thead th {\n",
              "        text-align: right;\n",
              "    }\n",
              "</style>\n",
              "<table border=\"1\" class=\"dataframe\">\n",
              "  <thead>\n",
              "    <tr style=\"text-align: right;\">\n",
              "      <th></th>\n",
              "      <th>Locations</th>\n",
              "      <th>Address</th>\n",
              "      <th>lat</th>\n",
              "      <th>lng</th>\n",
              "    </tr>\n",
              "  </thead>\n",
              "  <tbody>\n",
              "    <tr>\n",
              "      <th>0</th>\n",
              "      <td>Airport Gardens</td>\n",
              "      <td>815 Martin Luther King Jr., Blvd, Chapel Hill,...</td>\n",
              "      <td>35.920529</td>\n",
              "      <td>-79.055715</td>\n",
              "    </tr>\n",
              "    <tr>\n",
              "      <th>1</th>\n",
              "      <td>Dobbins Hill Apartments</td>\n",
              "      <td>1749 Dobbins Drive, Chapel Hill, NC 27514</td>\n",
              "      <td>35.946027</td>\n",
              "      <td>-79.015435</td>\n",
              "    </tr>\n",
              "    <tr>\n",
              "      <th>2</th>\n",
              "      <td>Eastwood</td>\n",
              "      <td>100 Louis Armstrong Court, Chapel Hill, NC 27514</td>\n",
              "      <td>35.947130</td>\n",
              "      <td>-79.046989</td>\n",
              "    </tr>\n",
              "    <tr>\n",
              "      <th>3</th>\n",
              "      <td>Hargraves Community Center</td>\n",
              "      <td>216 N Roberson St, Chapel Hill 27516</td>\n",
              "      <td>35.912903</td>\n",
              "      <td>-79.063894</td>\n",
              "    </tr>\n",
              "    <tr>\n",
              "      <th>4</th>\n",
              "      <td>S Estes Apartments</td>\n",
              "      <td>301 S Estes Drive, Chapel Hill, NC 27517</td>\n",
              "      <td>35.924858</td>\n",
              "      <td>-79.024008</td>\n",
              "    </tr>\n",
              "  </tbody>\n",
              "</table>\n",
              "</div>"
            ],
            "text/plain": [
              "                    Locations  ...        lng\n",
              "0             Airport Gardens  ... -79.055715\n",
              "1     Dobbins Hill Apartments  ... -79.015435\n",
              "2                    Eastwood  ... -79.046989\n",
              "3  Hargraves Community Center  ... -79.063894\n",
              "4          S Estes Apartments  ... -79.024008\n",
              "\n",
              "[5 rows x 4 columns]"
            ]
          },
          "metadata": {
            "tags": []
          },
          "execution_count": 3
        }
      ]
    },
    {
      "cell_type": "code",
      "metadata": {
        "id": "gRumtE617mn9",
        "colab_type": "code",
        "outputId": "2e2350c1-4bcc-48d0-cfed-829c6c0145dc",
        "colab": {
          "base_uri": "https://localhost:8080/",
          "height": 204
        }
      },
      "source": [
        "def make_point(row):\n",
        "    return Point(row.lng, row.lat)\n",
        "\n",
        "def make_marker(row):\n",
        "  return Markers(row.Locations)\n",
        "  \n",
        "# Go through every row, and make a point out of its lat and lon\n",
        "points = df.apply(make_point, axis=1)\n",
        "# markers = df.apply(make_marker, axis=1)\n",
        "\n",
        "# Make a new GeoDataFrame\n",
        "# using the data from our old df\n",
        "# but also adding in the geometry we just made\n",
        "pickupLocations = gpd.GeoDataFrame(df, geometry=points)\n",
        "\n",
        "# It doesn't come with a CRS because it's a CSV, so let's\n",
        "# say \"hey, let's use the standard shape of the earth etc\"\n",
        "pickupLocations.crs = {'init': 'epsg:4326'}\n",
        "\n",
        "# Let's look at the first few\n",
        "pickupLocations.head()\n"
      ],
      "execution_count": 4,
      "outputs": [
        {
          "output_type": "execute_result",
          "data": {
            "text/html": [
              "<div>\n",
              "<style scoped>\n",
              "    .dataframe tbody tr th:only-of-type {\n",
              "        vertical-align: middle;\n",
              "    }\n",
              "\n",
              "    .dataframe tbody tr th {\n",
              "        vertical-align: top;\n",
              "    }\n",
              "\n",
              "    .dataframe thead th {\n",
              "        text-align: right;\n",
              "    }\n",
              "</style>\n",
              "<table border=\"1\" class=\"dataframe\">\n",
              "  <thead>\n",
              "    <tr style=\"text-align: right;\">\n",
              "      <th></th>\n",
              "      <th>Locations</th>\n",
              "      <th>Address</th>\n",
              "      <th>lat</th>\n",
              "      <th>lng</th>\n",
              "      <th>geometry</th>\n",
              "    </tr>\n",
              "  </thead>\n",
              "  <tbody>\n",
              "    <tr>\n",
              "      <th>0</th>\n",
              "      <td>Airport Gardens</td>\n",
              "      <td>815 Martin Luther King Jr., Blvd, Chapel Hill,...</td>\n",
              "      <td>35.920529</td>\n",
              "      <td>-79.055715</td>\n",
              "      <td>POINT (-79.05571500000001 35.92052899999999)</td>\n",
              "    </tr>\n",
              "    <tr>\n",
              "      <th>1</th>\n",
              "      <td>Dobbins Hill Apartments</td>\n",
              "      <td>1749 Dobbins Drive, Chapel Hill, NC 27514</td>\n",
              "      <td>35.946027</td>\n",
              "      <td>-79.015435</td>\n",
              "      <td>POINT (-79.015435 35.946027)</td>\n",
              "    </tr>\n",
              "    <tr>\n",
              "      <th>2</th>\n",
              "      <td>Eastwood</td>\n",
              "      <td>100 Louis Armstrong Court, Chapel Hill, NC 27514</td>\n",
              "      <td>35.947130</td>\n",
              "      <td>-79.046989</td>\n",
              "      <td>POINT (-79.046989 35.94713)</td>\n",
              "    </tr>\n",
              "    <tr>\n",
              "      <th>3</th>\n",
              "      <td>Hargraves Community Center</td>\n",
              "      <td>216 N Roberson St, Chapel Hill 27516</td>\n",
              "      <td>35.912903</td>\n",
              "      <td>-79.063894</td>\n",
              "      <td>POINT (-79.06389399999999 35.912903)</td>\n",
              "    </tr>\n",
              "    <tr>\n",
              "      <th>4</th>\n",
              "      <td>S Estes Apartments</td>\n",
              "      <td>301 S Estes Drive, Chapel Hill, NC 27517</td>\n",
              "      <td>35.924858</td>\n",
              "      <td>-79.024008</td>\n",
              "      <td>POINT (-79.02400799999999 35.924858)</td>\n",
              "    </tr>\n",
              "  </tbody>\n",
              "</table>\n",
              "</div>"
            ],
            "text/plain": [
              "                    Locations  ...                                      geometry\n",
              "0             Airport Gardens  ...  POINT (-79.05571500000001 35.92052899999999)\n",
              "1     Dobbins Hill Apartments  ...                  POINT (-79.015435 35.946027)\n",
              "2                    Eastwood  ...                   POINT (-79.046989 35.94713)\n",
              "3  Hargraves Community Center  ...          POINT (-79.06389399999999 35.912903)\n",
              "4          S Estes Apartments  ...          POINT (-79.02400799999999 35.924858)\n",
              "\n",
              "[5 rows x 5 columns]"
            ]
          },
          "metadata": {
            "tags": []
          },
          "execution_count": 4
        }
      ]
    },
    {
      "cell_type": "code",
      "metadata": {
        "id": "0RikTUf89Dh6",
        "colab_type": "code",
        "outputId": "e81ac5b6-473f-4ccc-85dc-5d5495b8cb75",
        "colab": {
          "base_uri": "https://localhost:8080/",
          "height": 286
        }
      },
      "source": [
        "pickupLocations.plot()"
      ],
      "execution_count": 5,
      "outputs": [
        {
          "output_type": "execute_result",
          "data": {
            "text/plain": [
              "<matplotlib.axes._subplots.AxesSubplot at 0x7f5ba07d8a20>"
            ]
          },
          "metadata": {
            "tags": []
          },
          "execution_count": 5
        },
        {
          "output_type": "display_data",
          "data": {
            "image/png": "[encoded data removed]",
            "text/plain": [
              "<Figure size 432x288 with 1 Axes>"
            ]
          },
          "metadata": {
            "tags": []
          }
        }
      ]
    },
    {
      "cell_type": "code",
      "metadata": {
        "id": "pr5qcpS1AXTc",
        "colab_type": "code",
        "outputId": "37aa7738-13b6-47bc-d9b9-8017237ddb54",
        "colab": {
          "base_uri": "https://localhost:8080/",
          "height": 862
        }
      },
      "source": [
        "def map_region(region):\n",
        "  bounds = folium.GeoJson(region).get_bounds()\n",
        "  center = [(bounds[0][0] + bounds[1][0]) / 2, (bounds[0][1] + bounds[1][1]) / 2]\n",
        "  m = folium.Map(\n",
        "    location=center,\n",
        "    zoom_start=13,\n",
        "    tiles='OpenStreetMap'  \n",
        "  )\n",
        "\n",
        "\n",
        "#   test = folium.Html('<b>Hello world</b>', script=True)\n",
        "#   popup = folium.Popup(test, max_width=400)\n",
        "\n",
        "\n",
        "  for index, row in region.iterrows():\n",
        "    folium.Marker([row['lat'], row['lng']], popup=row['Locations']+\"\\r\"+row['Address']).add_to(m)\n",
        "\n",
        "  return m\n",
        "  \n",
        "map_region(pickupLocations)"
      ],
      "execution_count": 38,
      "outputs": [
        {
          "output_type": "execute_result",
          "data": {
            "text/html": [
              "<div style=\"width:100%;\"><div style=\"position:relative;width:100%;height:0;padding-bottom:60%;\"><iframe src=\"data:text/html;charset=utf-8;base64,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\" style=\"position:absolute;width:100%;height:100%;left:0;top:0;border:none !important;\" allowfullscreen webkitallowfullscreen mozallowfullscreen></iframe></div></div>"
            ],
            "text/plain": [
              "<folium.folium.Map at 0x7f5b8ed98860>"
            ]
          },
          "metadata": {
            "tags": []
          },
          "execution_count": 38
        }
      ]
    },
    {
      "cell_type": "code",
      "metadata": {
        "id": "4SLxEqXBZneX",
        "colab_type": "code",
        "colab": {}
      },
      "source": [
        ""
      ],
      "execution_count": 0,
      "outputs": []
    },
    {
      "cell_type": "code",
      "metadata": {
        "id": "QRH_d7wnaqx6",
        "colab_type": "code",
        "colab": {}
      },
      "source": [
        ""
      ],
      "execution_count": 0,
      "outputs": []
    }
  ]
}