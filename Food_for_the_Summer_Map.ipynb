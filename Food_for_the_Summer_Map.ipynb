{
  "nbformat": 4,
  "nbformat_minor": 0,
  "metadata": {
    "colab": {
      "name": "Food for the Summer Map",
      "version": "0.3.2",
      "provenance": [],
      "collapsed_sections": []
    },
    "kernelspec": {
      "name": "python3",
      "display_name": "Python 3"
    }
  },
  "cells": [
    {
      "metadata": {
        "id": "to6yyv0p60S2",
        "colab_type": "code",
        "outputId": "dc0faadb-6389-44f8-9c3f-e7e9cc1bdf79",
        "colab": {
          "base_uri": "https://localhost:8080/",
          "height": 734
        }
      },
      "cell_type": "code",
      "source": [
        "!pip install pandas\n",
        "!pip install folium\n",
        "!pip install geopandas"
      ],
      "execution_count": 4,
      "outputs": [
        {
          "output_type": "stream",
          "text": [
            "Requirement already satisfied: pandas in /usr/local/lib/python3.6/dist-packages (0.22.0)\n",
            "Requirement already satisfied: python-dateutil>=2 in /usr/local/lib/python3.6/dist-packages (from pandas) (2.5.3)\n",
            "Requirement already satisfied: pytz>=2011k in /usr/local/lib/python3.6/dist-packages (from pandas) (2018.9)\n",
            "Requirement already satisfied: numpy>=1.9.0 in /usr/local/lib/python3.6/dist-packages (from pandas) (1.14.6)\n",
            "Requirement already satisfied: six>=1.5 in /usr/local/lib/python3.6/dist-packages (from python-dateutil>=2->pandas) (1.11.0)\n",
            "Requirement already satisfied: folium in /usr/local/lib/python3.6/dist-packages (0.2.1)\n",
            "Requirement already satisfied: Jinja2 in /usr/local/lib/python3.6/dist-packages (from folium) (2.10)\n",
            "Requirement already satisfied: MarkupSafe>=0.23 in /usr/local/lib/python3.6/dist-packages (from Jinja2->folium) (1.1.0)\n",
            "Collecting geopandas\n",
            "\u001b[?25l  Downloading https://files.pythonhosted.org/packages/24/11/d77c157c16909bd77557d00798b05a5b6615ed60acb5900fbe6a65d35e93/geopandas-0.4.0-py2.py3-none-any.whl (899kB)\n",
            "\u001b[K    100% |████████████████████████████████| 901kB 20.0MB/s \n",
            "\u001b[?25hRequirement already satisfied: pandas in /usr/local/lib/python3.6/dist-packages (from geopandas) (0.22.0)\n",
            "Collecting shapely (from geopandas)\n",
            "\u001b[?25l  Downloading https://files.pythonhosted.org/packages/38/b6/b53f19062afd49bb5abd049aeed36f13bf8d57ef8f3fa07a5203531a0252/Shapely-1.6.4.post2-cp36-cp36m-manylinux1_x86_64.whl (1.5MB)\n",
            "\u001b[K    100% |████████████████████████████████| 1.5MB 1.2MB/s \n",
            "\u001b[?25hCollecting pyproj (from geopandas)\n",
            "\u001b[?25l  Downloading https://files.pythonhosted.org/packages/26/8c/1da0580f334718e04f8bbf74f0515a7fb8185ff96b2560ce080c11aa145b/pyproj-1.9.6.tar.gz (2.8MB)\n",
            "\u001b[K    100% |████████████████████████████████| 2.8MB 9.2MB/s \n",
            "\u001b[?25hCollecting fiona (from geopandas)\n",
            "\u001b[?25l  Downloading https://files.pythonhosted.org/packages/51/d8/2a97aea07eed6675187c42411bfca30816dfdd6831c125c123bac74f0465/Fiona-1.8.4-cp36-cp36m-manylinux1_x86_64.whl (17.9MB)\n",
            "\u001b[K    100% |████████████████████████████████| 17.9MB 1.6MB/s \n",
            "\u001b[?25hRequirement already satisfied: pytz>=2011k in /usr/local/lib/python3.6/dist-packages (from pandas->geopandas) (2018.9)\n",
            "Requirement already satisfied: python-dateutil>=2 in /usr/local/lib/python3.6/dist-packages (from pandas->geopandas) (2.5.3)\n",
            "Requirement already satisfied: numpy>=1.9.0 in /usr/local/lib/python3.6/dist-packages (from pandas->geopandas) (1.14.6)\n",
            "Requirement already satisfied: six>=1.7 in /usr/local/lib/python3.6/dist-packages (from fiona->geopandas) (1.11.0)\n",
            "Requirement already satisfied: click<8,>=4.0 in /usr/local/lib/python3.6/dist-packages (from fiona->geopandas) (7.0)\n",
            "Collecting click-plugins>=1.0 (from fiona->geopandas)\n",
            "  Downloading https://files.pythonhosted.org/packages/95/dd/fef84cf1678418f241ef542c0288bdf215bdd3e35f1fe03dc5223a2e80ba/click_plugins-1.0.4-py2.py3-none-any.whl\n",
            "Collecting cligj>=0.5 (from fiona->geopandas)\n",
            "  Downloading https://files.pythonhosted.org/packages/e4/be/30a58b4b0733850280d01f8bd132591b4668ed5c7046761098d665ac2174/cligj-0.5.0-py3-none-any.whl\n",
            "Requirement already satisfied: attrs>=17 in /usr/local/lib/python3.6/dist-packages (from fiona->geopandas) (18.2.0)\n",
            "Collecting munch (from fiona->geopandas)\n",
            "  Downloading https://files.pythonhosted.org/packages/68/f4/260ec98ea840757a0da09e0ed8135333d59b8dfebe9752a365b04857660a/munch-2.3.2.tar.gz\n",
            "Building wheels for collected packages: pyproj, munch\n",
            "  Running setup.py bdist_wheel for pyproj ... \u001b[?25l-\b \b\\\b \b|\b \b/\b \b-\b \b\\\b \b|\b \b/\b \b-\b \b\\\b \b|\b \b/\b \b-\b \b\\\b \b|\b \b/\b \b-\b \b\\\b \b|\b \b/\b \b-\b \b\\\b \b|\b \b/\b \b-\b \b\\\b \b|\b \b/\b \b-\b \b\\\b \b|\b \b/\b \b-\b \b\\\b \b|\b \b/\b \b-\b \b\\\b \b|\b \b/\b \b-\b \b\\\b \b|\b \b/\b \b-\b \b\\\b \b|\b \b/\b \b-\b \b\\\b \b|\b \b/\b \b-\b \b\\\b \b|\b \b/\b \b-\b \b\\\b \b|\b \b/\b \b-\b \b\\\b \b|\b \b/\b \b-\b \b\\\b \b|\b \b/\b \b-\b \b\\\b \b|\b \b/\b \b-\b \b\\\b \b|\b \b/\b \b-\b \b\\\b \b|\b \b/\b \b-\b \b\\\b \b|\b \b/\b \b-\b \b\\\b \b|\b \b/\b \b-\b \b\\\b \b|\b \b/\b \b-\b \b\\\b \b|\b \b/\b \b-\b \b\\\b \b|\b \b/\b \bdone\n",
            "\u001b[?25h  Stored in directory: /root/.cache/pip/wheels/02/cd/b1/a2d6430f74c7a778a43d62f78bec109ca69c732dc9b929142a\n",
            "  Running setup.py bdist_wheel for munch ... \u001b[?25l-\b \bdone\n",
            "\u001b[?25h  Stored in directory: /root/.cache/pip/wheels/db/bf/bc/06a3e1bfe0ab27d2e720ceb3cff3159398d92644c0cec2c125\n",
            "Successfully built pyproj munch\n",
            "Installing collected packages: shapely, pyproj, click-plugins, cligj, munch, fiona, geopandas\n",
            "Successfully installed click-plugins-1.0.4 cligj-0.5.0 fiona-1.8.4 geopandas-0.4.0 munch-2.3.2 pyproj-1.9.6 shapely-1.6.4.post2\n"
          ],
          "name": "stdout"
        }
      ]
    },
    {
      "metadata": {
        "id": "O9Beyy106TlI",
        "colab_type": "code",
        "outputId": "f865aaae-2798-4c05-c3e1-d87070f3760f",
        "colab": {
          "base_uri": "https://localhost:8080/",
          "height": 204
        }
      },
      "cell_type": "code",
      "source": [
        "import pandas as pd\n",
        "import geopandas as gpd\n",
        "from shapely.geometry import Point\n",
        "import folium\n",
        "\n",
        "df = pd.read_csv(\"https://docs.google.com/spreadsheets/d/e/2PACX-1vRTHdbVtExd84gZutdAyM0AkXL64MzOiugVFqg7ZTi9wdHGAUyOKLlZOSD110wo4KcJRlTBufYMJJEh/pub?gid=0&single=true&output=csv\")\n",
        "df.head()"
      ],
      "execution_count": 5,
      "outputs": [
        {
          "output_type": "execute_result",
          "data": {
            "text/html": [
              "<div>\n",
              "<style scoped>\n",
              "    .dataframe tbody tr th:only-of-type {\n",
              "        vertical-align: middle;\n",
              "    }\n",
              "\n",
              "    .dataframe tbody tr th {\n",
              "        vertical-align: top;\n",
              "    }\n",
              "\n",
              "    .dataframe thead th {\n",
              "        text-align: right;\n",
              "    }\n",
              "</style>\n",
              "<table border=\"1\" class=\"dataframe\">\n",
              "  <thead>\n",
              "    <tr style=\"text-align: right;\">\n",
              "      <th></th>\n",
              "      <th>Locations</th>\n",
              "      <th>Address</th>\n",
              "      <th>lat</th>\n",
              "      <th>lng</th>\n",
              "      <th>Open Hour</th>\n",
              "      <th>Close Hour</th>\n",
              "      <th>Dates</th>\n",
              "      <th>Notes</th>\n",
              "    </tr>\n",
              "  </thead>\n",
              "  <tbody>\n",
              "    <tr>\n",
              "      <th>0</th>\n",
              "      <td>Airport Gardens</td>\n",
              "      <td>815 Martin Luther King Jr., Blvd, Chapel Hill,...</td>\n",
              "      <td>35.920529</td>\n",
              "      <td>-79.055715</td>\n",
              "      <td>NaN</td>\n",
              "      <td>NaN</td>\n",
              "      <td>NaN</td>\n",
              "      <td>NaN</td>\n",
              "    </tr>\n",
              "    <tr>\n",
              "      <th>1</th>\n",
              "      <td>Barnes Street (Serving Carolina, Royal Park, U...</td>\n",
              "      <td>301 Barnes Street, Carrboro, NC  27510</td>\n",
              "      <td>35.904715</td>\n",
              "      <td>-79.078224</td>\n",
              "      <td>NaN</td>\n",
              "      <td>NaN</td>\n",
              "      <td>NaN</td>\n",
              "      <td>NaN</td>\n",
              "    </tr>\n",
              "    <tr>\n",
              "      <th>2</th>\n",
              "      <td>Bolinwood</td>\n",
              "      <td>500 Umstead Drive, Chapel Hill, NC 27516</td>\n",
              "      <td>35.923335</td>\n",
              "      <td>-79.065102</td>\n",
              "      <td>NaN</td>\n",
              "      <td>NaN</td>\n",
              "      <td>NaN</td>\n",
              "      <td>NaN</td>\n",
              "    </tr>\n",
              "    <tr>\n",
              "      <th>3</th>\n",
              "      <td>Bright Sun/Rainbow Heights</td>\n",
              "      <td>100 Bright Sun Place, Chapel Hill, NC 27514</td>\n",
              "      <td>35.954932</td>\n",
              "      <td>-79.059198</td>\n",
              "      <td>NaN</td>\n",
              "      <td>NaN</td>\n",
              "      <td>NaN</td>\n",
              "      <td>NaN</td>\n",
              "    </tr>\n",
              "    <tr>\n",
              "      <th>4</th>\n",
              "      <td>Colony Woods West/Jack Robinson playground</td>\n",
              "      <td>4 Adelaide Walters Street, Chapel Hill, NC</td>\n",
              "      <td>35.939199</td>\n",
              "      <td>-79.014147</td>\n",
              "      <td>NaN</td>\n",
              "      <td>NaN</td>\n",
              "      <td>NaN</td>\n",
              "      <td>Opening 7/10</td>\n",
              "    </tr>\n",
              "  </tbody>\n",
              "</table>\n",
              "</div>"
            ],
            "text/plain": [
              "                                           Locations  \\\n",
              "0                                    Airport Gardens   \n",
              "1  Barnes Street (Serving Carolina, Royal Park, U...   \n",
              "2                                          Bolinwood   \n",
              "3                         Bright Sun/Rainbow Heights   \n",
              "4         Colony Woods West/Jack Robinson playground   \n",
              "\n",
              "                                             Address        lat        lng  \\\n",
              "0  815 Martin Luther King Jr., Blvd, Chapel Hill,...  35.920529 -79.055715   \n",
              "1             301 Barnes Street, Carrboro, NC  27510  35.904715 -79.078224   \n",
              "2           500 Umstead Drive, Chapel Hill, NC 27516  35.923335 -79.065102   \n",
              "3        100 Bright Sun Place, Chapel Hill, NC 27514  35.954932 -79.059198   \n",
              "4         4 Adelaide Walters Street, Chapel Hill, NC  35.939199 -79.014147   \n",
              "\n",
              "   Open Hour  Close Hour  Dates         Notes  \n",
              "0        NaN         NaN    NaN           NaN  \n",
              "1        NaN         NaN    NaN           NaN  \n",
              "2        NaN         NaN    NaN           NaN  \n",
              "3        NaN         NaN    NaN           NaN  \n",
              "4        NaN         NaN    NaN  Opening 7/10  "
            ]
          },
          "metadata": {
            "tags": []
          },
          "execution_count": 5
        }
      ]
    },
    {
      "metadata": {
        "id": "gRumtE617mn9",
        "colab_type": "code",
        "outputId": "abc11963-7fe7-47de-e26f-c9a08c5e4546",
        "colab": {
          "base_uri": "https://localhost:8080/",
          "height": 306
        }
      },
      "cell_type": "code",
      "source": [
        "def make_point(row):\n",
        "    return Point(row.lng, row.lat)\n",
        "\n",
        "def make_marker(row):\n",
        "  return Markers(row.Locations)\n",
        "  \n",
        "# Go through every row, and make a point out of its lat and lon\n",
        "points = df.apply(make_point, axis=1)\n",
        "# markers = df.apply(make_marker, axis=1)\n",
        "\n",
        "# Make a new GeoDataFrame\n",
        "# using the data from our old df\n",
        "# but also adding in the geometry we just made\n",
        "pickupLocations = gpd.GeoDataFrame(df, geometry=points)\n",
        "\n",
        "# It doesn't come with a CRS because it's a CSV, so let's\n",
        "# say \"hey, let's use the standard shape of the earth etc\"\n",
        "pickupLocations.crs = {'init': 'epsg:4326'}\n",
        "\n",
        "# Let's look at the first few\n",
        "pickupLocations.head()\n"
      ],
      "execution_count": 6,
      "outputs": [
        {
          "output_type": "execute_result",
          "data": {
            "text/html": [
              "<div>\n",
              "<style scoped>\n",
              "    .dataframe tbody tr th:only-of-type {\n",
              "        vertical-align: middle;\n",
              "    }\n",
              "\n",
              "    .dataframe tbody tr th {\n",
              "        vertical-align: top;\n",
              "    }\n",
              "\n",
              "    .dataframe thead th {\n",
              "        text-align: right;\n",
              "    }\n",
              "</style>\n",
              "<table border=\"1\" class=\"dataframe\">\n",
              "  <thead>\n",
              "    <tr style=\"text-align: right;\">\n",
              "      <th></th>\n",
              "      <th>Locations</th>\n",
              "      <th>Address</th>\n",
              "      <th>lat</th>\n",
              "      <th>lng</th>\n",
              "      <th>Open Hour</th>\n",
              "      <th>Close Hour</th>\n",
              "      <th>Dates</th>\n",
              "      <th>Notes</th>\n",
              "      <th>geometry</th>\n",
              "    </tr>\n",
              "  </thead>\n",
              "  <tbody>\n",
              "    <tr>\n",
              "      <th>0</th>\n",
              "      <td>Airport Gardens</td>\n",
              "      <td>815 Martin Luther King Jr., Blvd, Chapel Hill,...</td>\n",
              "      <td>35.920529</td>\n",
              "      <td>-79.055715</td>\n",
              "      <td>NaN</td>\n",
              "      <td>NaN</td>\n",
              "      <td>NaN</td>\n",
              "      <td>NaN</td>\n",
              "      <td>POINT (-79.05571500000001 35.92052899999999)</td>\n",
              "    </tr>\n",
              "    <tr>\n",
              "      <th>1</th>\n",
              "      <td>Barnes Street (Serving Carolina, Royal Park, U...</td>\n",
              "      <td>301 Barnes Street, Carrboro, NC  27510</td>\n",
              "      <td>35.904715</td>\n",
              "      <td>-79.078224</td>\n",
              "      <td>NaN</td>\n",
              "      <td>NaN</td>\n",
              "      <td>NaN</td>\n",
              "      <td>NaN</td>\n",
              "      <td>POINT (-79.07822400000001 35.904715)</td>\n",
              "    </tr>\n",
              "    <tr>\n",
              "      <th>2</th>\n",
              "      <td>Bolinwood</td>\n",
              "      <td>500 Umstead Drive, Chapel Hill, NC 27516</td>\n",
              "      <td>35.923335</td>\n",
              "      <td>-79.065102</td>\n",
              "      <td>NaN</td>\n",
              "      <td>NaN</td>\n",
              "      <td>NaN</td>\n",
              "      <td>NaN</td>\n",
              "      <td>POINT (-79.065102 35.92333499999999)</td>\n",
              "    </tr>\n",
              "    <tr>\n",
              "      <th>3</th>\n",
              "      <td>Bright Sun/Rainbow Heights</td>\n",
              "      <td>100 Bright Sun Place, Chapel Hill, NC 27514</td>\n",
              "      <td>35.954932</td>\n",
              "      <td>-79.059198</td>\n",
              "      <td>NaN</td>\n",
              "      <td>NaN</td>\n",
              "      <td>NaN</td>\n",
              "      <td>NaN</td>\n",
              "      <td>POINT (-79.05919799999999 35.954932)</td>\n",
              "    </tr>\n",
              "    <tr>\n",
              "      <th>4</th>\n",
              "      <td>Colony Woods West/Jack Robinson playground</td>\n",
              "      <td>4 Adelaide Walters Street, Chapel Hill, NC</td>\n",
              "      <td>35.939199</td>\n",
              "      <td>-79.014147</td>\n",
              "      <td>NaN</td>\n",
              "      <td>NaN</td>\n",
              "      <td>NaN</td>\n",
              "      <td>Opening 7/10</td>\n",
              "      <td>POINT (-79.01414699999999 35.939199)</td>\n",
              "    </tr>\n",
              "  </tbody>\n",
              "</table>\n",
              "</div>"
            ],
            "text/plain": [
              "                                           Locations  \\\n",
              "0                                    Airport Gardens   \n",
              "1  Barnes Street (Serving Carolina, Royal Park, U...   \n",
              "2                                          Bolinwood   \n",
              "3                         Bright Sun/Rainbow Heights   \n",
              "4         Colony Woods West/Jack Robinson playground   \n",
              "\n",
              "                                             Address        lat        lng  \\\n",
              "0  815 Martin Luther King Jr., Blvd, Chapel Hill,...  35.920529 -79.055715   \n",
              "1             301 Barnes Street, Carrboro, NC  27510  35.904715 -79.078224   \n",
              "2           500 Umstead Drive, Chapel Hill, NC 27516  35.923335 -79.065102   \n",
              "3        100 Bright Sun Place, Chapel Hill, NC 27514  35.954932 -79.059198   \n",
              "4         4 Adelaide Walters Street, Chapel Hill, NC  35.939199 -79.014147   \n",
              "\n",
              "   Open Hour  Close Hour  Dates         Notes  \\\n",
              "0        NaN         NaN    NaN           NaN   \n",
              "1        NaN         NaN    NaN           NaN   \n",
              "2        NaN         NaN    NaN           NaN   \n",
              "3        NaN         NaN    NaN           NaN   \n",
              "4        NaN         NaN    NaN  Opening 7/10   \n",
              "\n",
              "                                       geometry  \n",
              "0  POINT (-79.05571500000001 35.92052899999999)  \n",
              "1          POINT (-79.07822400000001 35.904715)  \n",
              "2          POINT (-79.065102 35.92333499999999)  \n",
              "3          POINT (-79.05919799999999 35.954932)  \n",
              "4          POINT (-79.01414699999999 35.939199)  "
            ]
          },
          "metadata": {
            "tags": []
          },
          "execution_count": 6
        }
      ]
    },
    {
      "metadata": {
        "id": "0RikTUf89Dh6",
        "colab_type": "code",
        "outputId": "18b4d963-1725-49da-af97-44a81b586691",
        "colab": {
          "base_uri": "https://localhost:8080/",
          "height": 364
        }
      },
      "cell_type": "code",
      "source": [
        "pickupLocations.plot()"
      ],
      "execution_count": 7,
      "outputs": [
        {
          "output_type": "execute_result",
          "data": {
            "text/plain": [
              "<matplotlib.axes._subplots.AxesSubplot at 0x7f23e98b3ef0>"
            ]
          },
          "metadata": {
            "tags": []
          },
          "execution_count": 7
        },
        {
          "output_type": "display_data",
          "data": {
            "image/png": "[encoded data removed]",
            "text/plain": [
              "<matplotlib.figure.Figure at 0x7f23dcbc5550>"
            ]
          },
          "metadata": {
            "tags": []
          }
        }
      ]
    },
    {
      "metadata": {
        "id": "pr5qcpS1AXTc",
        "colab_type": "code",
        "outputId": "6b0c5e55-0242-4f85-826d-38e84abdeaba",
        "colab": {
          "base_uri": "https://localhost:8080/",
          "height": 734
        }
      },
      "cell_type": "code",
      "source": [
        "def map_region(region):\n",
        "  bounds = folium.GeoJson(region).get_bounds()\n",
        "  center = [(bounds[0][0] + bounds[1][0]) / 2, (bounds[0][1] + bounds[1][1]) / 2]\n",
        "  m = folium.Map(\n",
        "    location=center,\n",
        "    zoom_start=13,\n",
        "    tiles='OpenStreetMap'  \n",
        "  )\n",
        "  \n",
        "  #old code\n",
        "  \"\"\"folium.GeoJson(region).add_to(m)\"\"\"\n",
        "  \n",
        "  #new code\n",
        "  for index, row in region.iterrows():\n",
        "    folium.Marker([row['lat'], row['lng']], popup=row['Locations']).add_to(m)\n",
        "\n",
        "  return m\n",
        "  \n",
        "map_region(pickupLocations)"
      ],
      "execution_count": 8,
      "outputs": [
        {
          "output_type": "execute_result",
          "data": {
            "text/html": [
              "<div style=\"width:100%;\"><div style=\"position:relative;width:100%;height:0;padding-bottom:60%;\"><iframe src=\"data:text/html;base64,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\" style=\"position:absolute;width:100%;height:100%;left:0;top:0;\"></iframe></div></div>"
            ],
            "text/plain": [
              "<folium.folium.Map at 0x7f23dc73be10>"
            ]
          },
          "metadata": {
            "tags": []
          },
          "execution_count": 8
        }
      ]
    },
    {
      "metadata": {
        "id": "4SLxEqXBZneX",
        "colab_type": "code",
        "colab": {}
      },
      "cell_type": "code",
      "source": [
        ""
      ],
      "execution_count": 0,
      "outputs": []
    },
    {
      "metadata": {
        "id": "QRH_d7wnaqx6",
        "colab_type": "code",
        "colab": {}
      },
      "cell_type": "code",
      "source": [
        ""
      ],
      "execution_count": 0,
      "outputs": []
    }
  ]
}